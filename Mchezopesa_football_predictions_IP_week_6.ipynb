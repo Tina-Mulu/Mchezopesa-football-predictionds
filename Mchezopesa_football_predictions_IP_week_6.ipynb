{
  "nbformat": 4,
  "nbformat_minor": 0,
  "metadata": {
    "colab": {
      "name": "Mchezopesa football predictions. IP week 6",
      "provenance": [],
      "toc_visible": true,
      "authorship_tag": "ABX9TyMKLH/BAnRs4rdQ5y271AOi",
      "include_colab_link": true
    },
    "kernelspec": {
      "name": "python3",
      "display_name": "Python 3"
    },
    "language_info": {
      "name": "python"
    }
  },
  "cells": [
    {
      "cell_type": "markdown",
      "metadata": {
        "id": "view-in-github",
        "colab_type": "text"
      },
      "source": [
        "<a href=\"https://colab.research.google.com/github/Tina-Mulu/Mchezopesa-football-predictionds/blob/main/Mchezopesa_football_predictions_IP_week_6.ipynb\" target=\"_parent\"><img src=\"https://colab.research.google.com/assets/colab-badge.svg\" alt=\"Open In Colab\"/></a>"
      ]
    },
    {
      "cell_type": "code",
      "metadata": {
        "id": "t9UlDfU7VWgJ"
      },
      "source": [
        ""
      ],
      "execution_count": null,
      "outputs": []
    },
    {
      "cell_type": "markdown",
      "metadata": {
        "id": "wDInJgzSQitr"
      },
      "source": [
        "1**. Defining the question**"
      ]
    },
    {
      "cell_type": "markdown",
      "metadata": {
        "id": "ol2Uy1wplTN2"
      },
      "source": [
        "a) **Specifying the Question**\n",
        "\n",
        "As a data scientist you have been recruited as a football analyst in a company - Mchezopesa Ltd and tasked to come up with a prediction result of a game between team 1 and team 2, based on who's home and who's away , and on whether or not the game is friendly including erank in your training.\n"
      ]
    },
    {
      "cell_type": "markdown",
      "metadata": {
        "id": "72Ky0SwfmUWq"
      },
      "source": [
        "**b)Defining the Metrics for success**"
      ]
    },
    {
      "cell_type": "markdown",
      "metadata": {
        "id": "iXHP-kgc-QsR"
      },
      "source": [
        "using polynomial regression approach predict how many goals th hometeam scores and how many goals the away team scores.\n",
        "using logistic regression approach predict the number of goals scored also"
      ]
    },
    {
      "cell_type": "markdown",
      "metadata": {
        "id": "BPI1a_K6maXl"
      },
      "source": [
        "**c) Understanding the context**"
      ]
    },
    {
      "cell_type": "markdown",
      "metadata": {
        "id": "8VyY8jyK_H7h"
      },
      "source": [
        "A more detailed explanation and history of the rankings is available here: [Link] \n",
        "\n",
        "An explanation of the ranking procedure is available here: [Link]"
      ]
    },
    {
      "cell_type": "markdown",
      "metadata": {
        "id": "_nGwOOH1mpPd"
      },
      "source": [
        "**e) Data relevance**"
      ]
    },
    {
      "cell_type": "markdown",
      "metadata": {
        "id": "bxec7BKM_Joh"
      },
      "source": [
        "Some features are available on the FIFA ranking page [Link]."
      ]
    },
    {
      "cell_type": "markdown",
      "metadata": {
        "id": "9QKasoiwmxhy"
      },
      "source": [
        "**2. Reading the Data**"
      ]
    },
    {
      "cell_type": "code",
      "metadata": {
        "id": "L1VcEXKNvrxU"
      },
      "source": [
        "# importing libraries\n",
        "import pandas as pd\n",
        "import numpy as np\n",
        "import matplotlib.pyplot as plt\n",
        "import seaborn as sns"
      ],
      "execution_count": 3,
      "outputs": []
    },
    {
      "cell_type": "code",
      "metadata": {
        "colab": {
          "base_uri": "https://localhost:8080/",
          "height": 309
        },
        "id": "AokZo0efm03W",
        "outputId": "61e8e7b7-0885-4ae9-a5e5-672a2268a014"
      },
      "source": [
        "df1 = pd.read_csv(\"fifa_ranking.csv\")\n",
        "df1.head()"
      ],
      "execution_count": 4,
      "outputs": [
        {
          "output_type": "execute_result",
          "data": {
            "text/html": [
              "<div>\n",
              "<style scoped>\n",
              "    .dataframe tbody tr th:only-of-type {\n",
              "        vertical-align: middle;\n",
              "    }\n",
              "\n",
              "    .dataframe tbody tr th {\n",
              "        vertical-align: top;\n",
              "    }\n",
              "\n",
              "    .dataframe thead th {\n",
              "        text-align: right;\n",
              "    }\n",
              "</style>\n",
              "<table border=\"1\" class=\"dataframe\">\n",
              "  <thead>\n",
              "    <tr style=\"text-align: right;\">\n",
              "      <th></th>\n",
              "      <th>rank</th>\n",
              "      <th>country_full</th>\n",
              "      <th>country_abrv</th>\n",
              "      <th>total_points</th>\n",
              "      <th>previous_points</th>\n",
              "      <th>rank_change</th>\n",
              "      <th>cur_year_avg</th>\n",
              "      <th>cur_year_avg_weighted</th>\n",
              "      <th>last_year_avg</th>\n",
              "      <th>last_year_avg_weighted</th>\n",
              "      <th>two_year_ago_avg</th>\n",
              "      <th>two_year_ago_weighted</th>\n",
              "      <th>three_year_ago_avg</th>\n",
              "      <th>three_year_ago_weighted</th>\n",
              "      <th>confederation</th>\n",
              "      <th>rank_date</th>\n",
              "    </tr>\n",
              "  </thead>\n",
              "  <tbody>\n",
              "    <tr>\n",
              "      <th>0</th>\n",
              "      <td>1</td>\n",
              "      <td>Germany</td>\n",
              "      <td>GER</td>\n",
              "      <td>0.0</td>\n",
              "      <td>57.0</td>\n",
              "      <td>0.0</td>\n",
              "      <td>0.0</td>\n",
              "      <td>0.0</td>\n",
              "      <td>0.0</td>\n",
              "      <td>0.0</td>\n",
              "      <td>0.0</td>\n",
              "      <td>0.0</td>\n",
              "      <td>0.0</td>\n",
              "      <td>0.0</td>\n",
              "      <td>UEFA</td>\n",
              "      <td>1993-08-08</td>\n",
              "    </tr>\n",
              "    <tr>\n",
              "      <th>1</th>\n",
              "      <td>2</td>\n",
              "      <td>Italy</td>\n",
              "      <td>ITA</td>\n",
              "      <td>0.0</td>\n",
              "      <td>57.0</td>\n",
              "      <td>0.0</td>\n",
              "      <td>0.0</td>\n",
              "      <td>0.0</td>\n",
              "      <td>0.0</td>\n",
              "      <td>0.0</td>\n",
              "      <td>0.0</td>\n",
              "      <td>0.0</td>\n",
              "      <td>0.0</td>\n",
              "      <td>0.0</td>\n",
              "      <td>UEFA</td>\n",
              "      <td>1993-08-08</td>\n",
              "    </tr>\n",
              "    <tr>\n",
              "      <th>2</th>\n",
              "      <td>3</td>\n",
              "      <td>Switzerland</td>\n",
              "      <td>SUI</td>\n",
              "      <td>0.0</td>\n",
              "      <td>50.0</td>\n",
              "      <td>9.0</td>\n",
              "      <td>0.0</td>\n",
              "      <td>0.0</td>\n",
              "      <td>0.0</td>\n",
              "      <td>0.0</td>\n",
              "      <td>0.0</td>\n",
              "      <td>0.0</td>\n",
              "      <td>0.0</td>\n",
              "      <td>0.0</td>\n",
              "      <td>UEFA</td>\n",
              "      <td>1993-08-08</td>\n",
              "    </tr>\n",
              "    <tr>\n",
              "      <th>3</th>\n",
              "      <td>4</td>\n",
              "      <td>Sweden</td>\n",
              "      <td>SWE</td>\n",
              "      <td>0.0</td>\n",
              "      <td>55.0</td>\n",
              "      <td>0.0</td>\n",
              "      <td>0.0</td>\n",
              "      <td>0.0</td>\n",
              "      <td>0.0</td>\n",
              "      <td>0.0</td>\n",
              "      <td>0.0</td>\n",
              "      <td>0.0</td>\n",
              "      <td>0.0</td>\n",
              "      <td>0.0</td>\n",
              "      <td>UEFA</td>\n",
              "      <td>1993-08-08</td>\n",
              "    </tr>\n",
              "    <tr>\n",
              "      <th>4</th>\n",
              "      <td>5</td>\n",
              "      <td>Argentina</td>\n",
              "      <td>ARG</td>\n",
              "      <td>0.0</td>\n",
              "      <td>51.0</td>\n",
              "      <td>5.0</td>\n",
              "      <td>0.0</td>\n",
              "      <td>0.0</td>\n",
              "      <td>0.0</td>\n",
              "      <td>0.0</td>\n",
              "      <td>0.0</td>\n",
              "      <td>0.0</td>\n",
              "      <td>0.0</td>\n",
              "      <td>0.0</td>\n",
              "      <td>CONMEBOL</td>\n",
              "      <td>1993-08-08</td>\n",
              "    </tr>\n",
              "  </tbody>\n",
              "</table>\n",
              "</div>"
            ],
            "text/plain": [
              "   rank country_full  ... confederation   rank_date\n",
              "0     1      Germany  ...          UEFA  1993-08-08\n",
              "1     2        Italy  ...          UEFA  1993-08-08\n",
              "2     3  Switzerland  ...          UEFA  1993-08-08\n",
              "3     4       Sweden  ...          UEFA  1993-08-08\n",
              "4     5    Argentina  ...      CONMEBOL  1993-08-08\n",
              "\n",
              "[5 rows x 16 columns]"
            ]
          },
          "metadata": {
            "tags": []
          },
          "execution_count": 4
        }
      ]
    },
    {
      "cell_type": "code",
      "metadata": {
        "colab": {
          "base_uri": "https://localhost:8080/",
          "height": 202
        },
        "id": "IkFZx7eYSqiR",
        "outputId": "70b7677e-d3d4-4510-9981-4585ff50cd3d"
      },
      "source": [
        "df2 = pd.read_csv(\"results.csv\")\n",
        "df2.head()"
      ],
      "execution_count": 5,
      "outputs": [
        {
          "output_type": "execute_result",
          "data": {
            "text/html": [
              "<div>\n",
              "<style scoped>\n",
              "    .dataframe tbody tr th:only-of-type {\n",
              "        vertical-align: middle;\n",
              "    }\n",
              "\n",
              "    .dataframe tbody tr th {\n",
              "        vertical-align: top;\n",
              "    }\n",
              "\n",
              "    .dataframe thead th {\n",
              "        text-align: right;\n",
              "    }\n",
              "</style>\n",
              "<table border=\"1\" class=\"dataframe\">\n",
              "  <thead>\n",
              "    <tr style=\"text-align: right;\">\n",
              "      <th></th>\n",
              "      <th>date</th>\n",
              "      <th>home_team</th>\n",
              "      <th>away_team</th>\n",
              "      <th>home_score</th>\n",
              "      <th>away_score</th>\n",
              "      <th>tournament</th>\n",
              "      <th>city</th>\n",
              "      <th>country</th>\n",
              "      <th>neutral</th>\n",
              "    </tr>\n",
              "  </thead>\n",
              "  <tbody>\n",
              "    <tr>\n",
              "      <th>0</th>\n",
              "      <td>1872-11-30</td>\n",
              "      <td>Scotland</td>\n",
              "      <td>England</td>\n",
              "      <td>0</td>\n",
              "      <td>0</td>\n",
              "      <td>Friendly</td>\n",
              "      <td>Glasgow</td>\n",
              "      <td>Scotland</td>\n",
              "      <td>False</td>\n",
              "    </tr>\n",
              "    <tr>\n",
              "      <th>1</th>\n",
              "      <td>1873-03-08</td>\n",
              "      <td>England</td>\n",
              "      <td>Scotland</td>\n",
              "      <td>4</td>\n",
              "      <td>2</td>\n",
              "      <td>Friendly</td>\n",
              "      <td>London</td>\n",
              "      <td>England</td>\n",
              "      <td>False</td>\n",
              "    </tr>\n",
              "    <tr>\n",
              "      <th>2</th>\n",
              "      <td>1874-03-07</td>\n",
              "      <td>Scotland</td>\n",
              "      <td>England</td>\n",
              "      <td>2</td>\n",
              "      <td>1</td>\n",
              "      <td>Friendly</td>\n",
              "      <td>Glasgow</td>\n",
              "      <td>Scotland</td>\n",
              "      <td>False</td>\n",
              "    </tr>\n",
              "    <tr>\n",
              "      <th>3</th>\n",
              "      <td>1875-03-06</td>\n",
              "      <td>England</td>\n",
              "      <td>Scotland</td>\n",
              "      <td>2</td>\n",
              "      <td>2</td>\n",
              "      <td>Friendly</td>\n",
              "      <td>London</td>\n",
              "      <td>England</td>\n",
              "      <td>False</td>\n",
              "    </tr>\n",
              "    <tr>\n",
              "      <th>4</th>\n",
              "      <td>1876-03-04</td>\n",
              "      <td>Scotland</td>\n",
              "      <td>England</td>\n",
              "      <td>3</td>\n",
              "      <td>0</td>\n",
              "      <td>Friendly</td>\n",
              "      <td>Glasgow</td>\n",
              "      <td>Scotland</td>\n",
              "      <td>False</td>\n",
              "    </tr>\n",
              "  </tbody>\n",
              "</table>\n",
              "</div>"
            ],
            "text/plain": [
              "         date home_team away_team  ...     city   country neutral\n",
              "0  1872-11-30  Scotland   England  ...  Glasgow  Scotland   False\n",
              "1  1873-03-08   England  Scotland  ...   London   England   False\n",
              "2  1874-03-07  Scotland   England  ...  Glasgow  Scotland   False\n",
              "3  1875-03-06   England  Scotland  ...   London   England   False\n",
              "4  1876-03-04  Scotland   England  ...  Glasgow  Scotland   False\n",
              "\n",
              "[5 rows x 9 columns]"
            ]
          },
          "metadata": {
            "tags": []
          },
          "execution_count": 5
        }
      ]
    },
    {
      "cell_type": "markdown",
      "metadata": {
        "id": "oEGDeZaZS1zA"
      },
      "source": [
        "**3. Checking the data**"
      ]
    },
    {
      "cell_type": "code",
      "metadata": {
        "colab": {
          "base_uri": "https://localhost:8080/"
        },
        "id": "YY0kxSpYS6XW",
        "outputId": "6e4668ba-68b2-4175-da52-56c52ade2355"
      },
      "source": [
        "df1.shape"
      ],
      "execution_count": 6,
      "outputs": [
        {
          "output_type": "execute_result",
          "data": {
            "text/plain": [
              "(41361, 16)"
            ]
          },
          "metadata": {
            "tags": []
          },
          "execution_count": 6
        }
      ]
    },
    {
      "cell_type": "code",
      "metadata": {
        "colab": {
          "base_uri": "https://localhost:8080/"
        },
        "id": "rG5LGj-QTAPM",
        "outputId": "be466573-c161-4892-ea28-1a0392916717"
      },
      "source": [
        "df1.info()"
      ],
      "execution_count": null,
      "outputs": [
        {
          "output_type": "stream",
          "text": [
            "<class 'pandas.core.frame.DataFrame'>\n",
            "RangeIndex: 13995 entries, 0 to 13994\n",
            "Data columns (total 16 columns):\n",
            " #   Column                   Non-Null Count  Dtype  \n",
            "---  ------                   --------------  -----  \n",
            " 0   rank                     13995 non-null  int64  \n",
            " 1   country_full             13994 non-null  object \n",
            " 2   country_abrv             13994 non-null  object \n",
            " 3   total_points             13994 non-null  float64\n",
            " 4   previous_points          13994 non-null  float64\n",
            " 5   rank_change              13994 non-null  float64\n",
            " 6   cur_year_avg             13994 non-null  float64\n",
            " 7   cur_year_avg_weighted    13994 non-null  float64\n",
            " 8   last_year_avg            13994 non-null  float64\n",
            " 9   last_year_avg_weighted   13994 non-null  float64\n",
            " 10  two_year_ago_avg         13994 non-null  float64\n",
            " 11  two_year_ago_weighted    13994 non-null  float64\n",
            " 12  three_year_ago_avg       13994 non-null  float64\n",
            " 13  three_year_ago_weighted  13994 non-null  float64\n",
            " 14  confederation            13994 non-null  object \n",
            " 15  rank_date                13994 non-null  object \n",
            "dtypes: float64(11), int64(1), object(4)\n",
            "memory usage: 1.7+ MB\n"
          ],
          "name": "stdout"
        }
      ]
    },
    {
      "cell_type": "code",
      "metadata": {
        "colab": {
          "base_uri": "https://localhost:8080/"
        },
        "id": "Qagz5xriWhCV",
        "outputId": "afee28a2-4765-4702-b108-65090c3c5774"
      },
      "source": [
        "df2.shape"
      ],
      "execution_count": 7,
      "outputs": [
        {
          "output_type": "execute_result",
          "data": {
            "text/plain": [
              "(40839, 9)"
            ]
          },
          "metadata": {
            "tags": []
          },
          "execution_count": 7
        }
      ]
    },
    {
      "cell_type": "code",
      "metadata": {
        "colab": {
          "base_uri": "https://localhost:8080/"
        },
        "id": "Fce6SyP8Wg71",
        "outputId": "652b5a3c-4b43-4700-eec2-955098296f02"
      },
      "source": [
        "df2.info()"
      ],
      "execution_count": 8,
      "outputs": [
        {
          "output_type": "stream",
          "text": [
            "<class 'pandas.core.frame.DataFrame'>\n",
            "RangeIndex: 40839 entries, 0 to 40838\n",
            "Data columns (total 9 columns):\n",
            " #   Column      Non-Null Count  Dtype \n",
            "---  ------      --------------  ----- \n",
            " 0   date        40839 non-null  object\n",
            " 1   home_team   40839 non-null  object\n",
            " 2   away_team   40839 non-null  object\n",
            " 3   home_score  40839 non-null  int64 \n",
            " 4   away_score  40839 non-null  int64 \n",
            " 5   tournament  40839 non-null  object\n",
            " 6   city        40839 non-null  object\n",
            " 7   country     40839 non-null  object\n",
            " 8   neutral     40839 non-null  bool  \n",
            "dtypes: bool(1), int64(2), object(6)\n",
            "memory usage: 2.5+ MB\n"
          ],
          "name": "stdout"
        }
      ]
    },
    {
      "cell_type": "markdown",
      "metadata": {
        "id": "OTREfS4ETNSd"
      },
      "source": [
        "**4. External data source validation**"
      ]
    },
    {
      "cell_type": "markdown",
      "metadata": {
        "id": "t2qf590oTcr-"
      },
      "source": [
        "**Tidying the dataset**"
      ]
    },
    {
      "cell_type": "code",
      "metadata": {
        "id": "CjE3wJwcWvwU"
      },
      "source": [
        ""
      ],
      "execution_count": null,
      "outputs": []
    },
    {
      "cell_type": "code",
      "metadata": {
        "id": "V_ChX4UwFO5W"
      },
      "source": [
        "\n",
        "df1.rename(columns= {'country_full':'country'}, inplace=True)"
      ],
      "execution_count": 9,
      "outputs": []
    },
    {
      "cell_type": "code",
      "metadata": {
        "id": "ym-XgX37sYID"
      },
      "source": [
        "# dropping unnecessary columns\n",
        "df1.drop(['country_abrv', 'previous_points', 'total_points', 'rank_change', 'cur_year_avg', 'cur_year_avg_weighted', 'last_year_avg', 'last_year_avg_weighted', 'two_year_ago_avg',\n",
        "          'two_year_ago_weighted', 'three_year_ago_avg', 'three_year_ago_weighted', 'confederation'], axis = 1, inplace=True)"
      ],
      "execution_count": 10,
      "outputs": []
    },
    {
      "cell_type": "code",
      "metadata": {
        "id": "TdS0rPKM08A9"
      },
      "source": [
        "# changing the date format\n",
        "df1['rank_date'] =  pd.to_datetime(df1['rank_date'])"
      ],
      "execution_count": 11,
      "outputs": []
    },
    {
      "cell_type": "code",
      "metadata": {
        "id": "5o5297LE0dPz"
      },
      "source": [
        "# stripping the month and year from the rank date\n",
        "df1['rank_month'] = df1['rank_date'].dt.month\n",
        "df1['rank_year'] = df1['rank_date'].dt.year"
      ],
      "execution_count": 12,
      "outputs": []
    },
    {
      "cell_type": "code",
      "metadata": {
        "colab": {
          "base_uri": "https://localhost:8080/",
          "height": 416
        },
        "id": "UoqtDGmcUG_m",
        "outputId": "c0721f59-ba2d-4a91-93ae-4d44d411d60e"
      },
      "source": [
        "df1.drop(['rank_date'], axis=1, inplace=True)\n",
        "df1"
      ],
      "execution_count": null,
      "outputs": [
        {
          "output_type": "execute_result",
          "data": {
            "text/html": [
              "<div>\n",
              "<style scoped>\n",
              "    .dataframe tbody tr th:only-of-type {\n",
              "        vertical-align: middle;\n",
              "    }\n",
              "\n",
              "    .dataframe tbody tr th {\n",
              "        vertical-align: top;\n",
              "    }\n",
              "\n",
              "    .dataframe thead th {\n",
              "        text-align: right;\n",
              "    }\n",
              "</style>\n",
              "<table border=\"1\" class=\"dataframe\">\n",
              "  <thead>\n",
              "    <tr style=\"text-align: right;\">\n",
              "      <th></th>\n",
              "      <th>rank</th>\n",
              "      <th>country</th>\n",
              "      <th>rank_month</th>\n",
              "      <th>rank_year</th>\n",
              "    </tr>\n",
              "  </thead>\n",
              "  <tbody>\n",
              "    <tr>\n",
              "      <th>0</th>\n",
              "      <td>1</td>\n",
              "      <td>Germany</td>\n",
              "      <td>8.0</td>\n",
              "      <td>1993.0</td>\n",
              "    </tr>\n",
              "    <tr>\n",
              "      <th>1</th>\n",
              "      <td>2</td>\n",
              "      <td>Italy</td>\n",
              "      <td>8.0</td>\n",
              "      <td>1993.0</td>\n",
              "    </tr>\n",
              "    <tr>\n",
              "      <th>2</th>\n",
              "      <td>3</td>\n",
              "      <td>Switzerland</td>\n",
              "      <td>8.0</td>\n",
              "      <td>1993.0</td>\n",
              "    </tr>\n",
              "    <tr>\n",
              "      <th>3</th>\n",
              "      <td>4</td>\n",
              "      <td>Sweden</td>\n",
              "      <td>8.0</td>\n",
              "      <td>1993.0</td>\n",
              "    </tr>\n",
              "    <tr>\n",
              "      <th>4</th>\n",
              "      <td>5</td>\n",
              "      <td>Argentina</td>\n",
              "      <td>8.0</td>\n",
              "      <td>1993.0</td>\n",
              "    </tr>\n",
              "    <tr>\n",
              "      <th>...</th>\n",
              "      <td>...</td>\n",
              "      <td>...</td>\n",
              "      <td>...</td>\n",
              "      <td>...</td>\n",
              "    </tr>\n",
              "    <tr>\n",
              "      <th>13990</th>\n",
              "      <td>103</td>\n",
              "      <td>Wales</td>\n",
              "      <td>8.0</td>\n",
              "      <td>2000.0</td>\n",
              "    </tr>\n",
              "    <tr>\n",
              "      <th>13991</th>\n",
              "      <td>104</td>\n",
              "      <td>Vietnam</td>\n",
              "      <td>8.0</td>\n",
              "      <td>2000.0</td>\n",
              "    </tr>\n",
              "    <tr>\n",
              "      <th>13992</th>\n",
              "      <td>105</td>\n",
              "      <td>Mozambique</td>\n",
              "      <td>8.0</td>\n",
              "      <td>2000.0</td>\n",
              "    </tr>\n",
              "    <tr>\n",
              "      <th>13993</th>\n",
              "      <td>106</td>\n",
              "      <td>Uganda</td>\n",
              "      <td>8.0</td>\n",
              "      <td>2000.0</td>\n",
              "    </tr>\n",
              "    <tr>\n",
              "      <th>13994</th>\n",
              "      <td>107</td>\n",
              "      <td>NaN</td>\n",
              "      <td>NaN</td>\n",
              "      <td>NaN</td>\n",
              "    </tr>\n",
              "  </tbody>\n",
              "</table>\n",
              "<p>13995 rows × 4 columns</p>\n",
              "</div>"
            ],
            "text/plain": [
              "       rank      country  rank_month  rank_year\n",
              "0         1      Germany         8.0     1993.0\n",
              "1         2        Italy         8.0     1993.0\n",
              "2         3  Switzerland         8.0     1993.0\n",
              "3         4       Sweden         8.0     1993.0\n",
              "4         5    Argentina         8.0     1993.0\n",
              "...     ...          ...         ...        ...\n",
              "13990   103        Wales         8.0     2000.0\n",
              "13991   104      Vietnam         8.0     2000.0\n",
              "13992   105   Mozambique         8.0     2000.0\n",
              "13993   106       Uganda         8.0     2000.0\n",
              "13994   107          NaN         NaN        NaN\n",
              "\n",
              "[13995 rows x 4 columns]"
            ]
          },
          "metadata": {
            "tags": []
          },
          "execution_count": 16
        }
      ]
    },
    {
      "cell_type": "code",
      "metadata": {
        "id": "Q9WAS3eG2lzZ"
      },
      "source": [
        "# dropping unncessary columns in the second data set\n",
        "df2.drop(['city', 'neutral'], axis= 1, inplace=True)"
      ],
      "execution_count": 13,
      "outputs": []
    },
    {
      "cell_type": "code",
      "metadata": {
        "id": "fhhtSs9N5Mzn"
      },
      "source": [
        "df2['date'] =  pd.to_datetime(df2['date'])"
      ],
      "execution_count": 14,
      "outputs": []
    },
    {
      "cell_type": "code",
      "metadata": {
        "id": "05G9Fw84XZ8k"
      },
      "source": [
        "# stripping the month and year from the rank date\n",
        "df2['month'] = df2['date'].dt.month\n",
        "df2['year'] = df2['date'].dt.year"
      ],
      "execution_count": 15,
      "outputs": []
    },
    {
      "cell_type": "code",
      "metadata": {
        "colab": {
          "base_uri": "https://localhost:8080/",
          "height": 416
        },
        "id": "0gEy7FBdXo8Z",
        "outputId": "4253ac2d-72fb-41eb-a841-bc4f4b2879e4"
      },
      "source": [
        "df2"
      ],
      "execution_count": 16,
      "outputs": [
        {
          "output_type": "execute_result",
          "data": {
            "text/html": [
              "<div>\n",
              "<style scoped>\n",
              "    .dataframe tbody tr th:only-of-type {\n",
              "        vertical-align: middle;\n",
              "    }\n",
              "\n",
              "    .dataframe tbody tr th {\n",
              "        vertical-align: top;\n",
              "    }\n",
              "\n",
              "    .dataframe thead th {\n",
              "        text-align: right;\n",
              "    }\n",
              "</style>\n",
              "<table border=\"1\" class=\"dataframe\">\n",
              "  <thead>\n",
              "    <tr style=\"text-align: right;\">\n",
              "      <th></th>\n",
              "      <th>date</th>\n",
              "      <th>home_team</th>\n",
              "      <th>away_team</th>\n",
              "      <th>home_score</th>\n",
              "      <th>away_score</th>\n",
              "      <th>tournament</th>\n",
              "      <th>country</th>\n",
              "      <th>month</th>\n",
              "      <th>year</th>\n",
              "    </tr>\n",
              "  </thead>\n",
              "  <tbody>\n",
              "    <tr>\n",
              "      <th>0</th>\n",
              "      <td>1872-11-30</td>\n",
              "      <td>Scotland</td>\n",
              "      <td>England</td>\n",
              "      <td>0</td>\n",
              "      <td>0</td>\n",
              "      <td>Friendly</td>\n",
              "      <td>Scotland</td>\n",
              "      <td>11</td>\n",
              "      <td>1872</td>\n",
              "    </tr>\n",
              "    <tr>\n",
              "      <th>1</th>\n",
              "      <td>1873-03-08</td>\n",
              "      <td>England</td>\n",
              "      <td>Scotland</td>\n",
              "      <td>4</td>\n",
              "      <td>2</td>\n",
              "      <td>Friendly</td>\n",
              "      <td>England</td>\n",
              "      <td>3</td>\n",
              "      <td>1873</td>\n",
              "    </tr>\n",
              "    <tr>\n",
              "      <th>2</th>\n",
              "      <td>1874-03-07</td>\n",
              "      <td>Scotland</td>\n",
              "      <td>England</td>\n",
              "      <td>2</td>\n",
              "      <td>1</td>\n",
              "      <td>Friendly</td>\n",
              "      <td>Scotland</td>\n",
              "      <td>3</td>\n",
              "      <td>1874</td>\n",
              "    </tr>\n",
              "    <tr>\n",
              "      <th>3</th>\n",
              "      <td>1875-03-06</td>\n",
              "      <td>England</td>\n",
              "      <td>Scotland</td>\n",
              "      <td>2</td>\n",
              "      <td>2</td>\n",
              "      <td>Friendly</td>\n",
              "      <td>England</td>\n",
              "      <td>3</td>\n",
              "      <td>1875</td>\n",
              "    </tr>\n",
              "    <tr>\n",
              "      <th>4</th>\n",
              "      <td>1876-03-04</td>\n",
              "      <td>Scotland</td>\n",
              "      <td>England</td>\n",
              "      <td>3</td>\n",
              "      <td>0</td>\n",
              "      <td>Friendly</td>\n",
              "      <td>Scotland</td>\n",
              "      <td>3</td>\n",
              "      <td>1876</td>\n",
              "    </tr>\n",
              "    <tr>\n",
              "      <th>...</th>\n",
              "      <td>...</td>\n",
              "      <td>...</td>\n",
              "      <td>...</td>\n",
              "      <td>...</td>\n",
              "      <td>...</td>\n",
              "      <td>...</td>\n",
              "      <td>...</td>\n",
              "      <td>...</td>\n",
              "      <td>...</td>\n",
              "    </tr>\n",
              "    <tr>\n",
              "      <th>40834</th>\n",
              "      <td>2019-07-18</td>\n",
              "      <td>American Samoa</td>\n",
              "      <td>Tahiti</td>\n",
              "      <td>8</td>\n",
              "      <td>1</td>\n",
              "      <td>Pacific Games</td>\n",
              "      <td>Samoa</td>\n",
              "      <td>7</td>\n",
              "      <td>2019</td>\n",
              "    </tr>\n",
              "    <tr>\n",
              "      <th>40835</th>\n",
              "      <td>2019-07-18</td>\n",
              "      <td>Fiji</td>\n",
              "      <td>Solomon Islands</td>\n",
              "      <td>4</td>\n",
              "      <td>4</td>\n",
              "      <td>Pacific Games</td>\n",
              "      <td>Samoa</td>\n",
              "      <td>7</td>\n",
              "      <td>2019</td>\n",
              "    </tr>\n",
              "    <tr>\n",
              "      <th>40836</th>\n",
              "      <td>2019-07-19</td>\n",
              "      <td>Senegal</td>\n",
              "      <td>Algeria</td>\n",
              "      <td>0</td>\n",
              "      <td>1</td>\n",
              "      <td>African Cup of Nations</td>\n",
              "      <td>Egypt</td>\n",
              "      <td>7</td>\n",
              "      <td>2019</td>\n",
              "    </tr>\n",
              "    <tr>\n",
              "      <th>40837</th>\n",
              "      <td>2019-07-19</td>\n",
              "      <td>Tajikistan</td>\n",
              "      <td>North Korea</td>\n",
              "      <td>0</td>\n",
              "      <td>1</td>\n",
              "      <td>Intercontinental Cup</td>\n",
              "      <td>India</td>\n",
              "      <td>7</td>\n",
              "      <td>2019</td>\n",
              "    </tr>\n",
              "    <tr>\n",
              "      <th>40838</th>\n",
              "      <td>2019-07-20</td>\n",
              "      <td>Papua New Guinea</td>\n",
              "      <td>Fiji</td>\n",
              "      <td>1</td>\n",
              "      <td>1</td>\n",
              "      <td>Pacific Games</td>\n",
              "      <td>Samoa</td>\n",
              "      <td>7</td>\n",
              "      <td>2019</td>\n",
              "    </tr>\n",
              "  </tbody>\n",
              "</table>\n",
              "<p>40839 rows × 9 columns</p>\n",
              "</div>"
            ],
            "text/plain": [
              "            date         home_team        away_team  ...   country  month  year\n",
              "0     1872-11-30          Scotland          England  ...  Scotland     11  1872\n",
              "1     1873-03-08           England         Scotland  ...   England      3  1873\n",
              "2     1874-03-07          Scotland          England  ...  Scotland      3  1874\n",
              "3     1875-03-06           England         Scotland  ...   England      3  1875\n",
              "4     1876-03-04          Scotland          England  ...  Scotland      3  1876\n",
              "...          ...               ...              ...  ...       ...    ...   ...\n",
              "40834 2019-07-18    American Samoa           Tahiti  ...     Samoa      7  2019\n",
              "40835 2019-07-18              Fiji  Solomon Islands  ...     Samoa      7  2019\n",
              "40836 2019-07-19           Senegal          Algeria  ...     Egypt      7  2019\n",
              "40837 2019-07-19        Tajikistan      North Korea  ...     India      7  2019\n",
              "40838 2019-07-20  Papua New Guinea             Fiji  ...     Samoa      7  2019\n",
              "\n",
              "[40839 rows x 9 columns]"
            ]
          },
          "metadata": {
            "tags": []
          },
          "execution_count": 16
        }
      ]
    },
    {
      "cell_type": "code",
      "metadata": {
        "colab": {
          "base_uri": "https://localhost:8080/",
          "height": 416
        },
        "id": "Q21Ah_i-XsqV",
        "outputId": "5d9a4c58-a460-4522-8496-88a867229adb"
      },
      "source": [
        "df2.drop(['date'], axis=1, inplace=True)\n",
        "df2\n",
        " "
      ],
      "execution_count": 17,
      "outputs": [
        {
          "output_type": "execute_result",
          "data": {
            "text/html": [
              "<div>\n",
              "<style scoped>\n",
              "    .dataframe tbody tr th:only-of-type {\n",
              "        vertical-align: middle;\n",
              "    }\n",
              "\n",
              "    .dataframe tbody tr th {\n",
              "        vertical-align: top;\n",
              "    }\n",
              "\n",
              "    .dataframe thead th {\n",
              "        text-align: right;\n",
              "    }\n",
              "</style>\n",
              "<table border=\"1\" class=\"dataframe\">\n",
              "  <thead>\n",
              "    <tr style=\"text-align: right;\">\n",
              "      <th></th>\n",
              "      <th>home_team</th>\n",
              "      <th>away_team</th>\n",
              "      <th>home_score</th>\n",
              "      <th>away_score</th>\n",
              "      <th>tournament</th>\n",
              "      <th>country</th>\n",
              "      <th>month</th>\n",
              "      <th>year</th>\n",
              "    </tr>\n",
              "  </thead>\n",
              "  <tbody>\n",
              "    <tr>\n",
              "      <th>0</th>\n",
              "      <td>Scotland</td>\n",
              "      <td>England</td>\n",
              "      <td>0</td>\n",
              "      <td>0</td>\n",
              "      <td>Friendly</td>\n",
              "      <td>Scotland</td>\n",
              "      <td>11</td>\n",
              "      <td>1872</td>\n",
              "    </tr>\n",
              "    <tr>\n",
              "      <th>1</th>\n",
              "      <td>England</td>\n",
              "      <td>Scotland</td>\n",
              "      <td>4</td>\n",
              "      <td>2</td>\n",
              "      <td>Friendly</td>\n",
              "      <td>England</td>\n",
              "      <td>3</td>\n",
              "      <td>1873</td>\n",
              "    </tr>\n",
              "    <tr>\n",
              "      <th>2</th>\n",
              "      <td>Scotland</td>\n",
              "      <td>England</td>\n",
              "      <td>2</td>\n",
              "      <td>1</td>\n",
              "      <td>Friendly</td>\n",
              "      <td>Scotland</td>\n",
              "      <td>3</td>\n",
              "      <td>1874</td>\n",
              "    </tr>\n",
              "    <tr>\n",
              "      <th>3</th>\n",
              "      <td>England</td>\n",
              "      <td>Scotland</td>\n",
              "      <td>2</td>\n",
              "      <td>2</td>\n",
              "      <td>Friendly</td>\n",
              "      <td>England</td>\n",
              "      <td>3</td>\n",
              "      <td>1875</td>\n",
              "    </tr>\n",
              "    <tr>\n",
              "      <th>4</th>\n",
              "      <td>Scotland</td>\n",
              "      <td>England</td>\n",
              "      <td>3</td>\n",
              "      <td>0</td>\n",
              "      <td>Friendly</td>\n",
              "      <td>Scotland</td>\n",
              "      <td>3</td>\n",
              "      <td>1876</td>\n",
              "    </tr>\n",
              "    <tr>\n",
              "      <th>...</th>\n",
              "      <td>...</td>\n",
              "      <td>...</td>\n",
              "      <td>...</td>\n",
              "      <td>...</td>\n",
              "      <td>...</td>\n",
              "      <td>...</td>\n",
              "      <td>...</td>\n",
              "      <td>...</td>\n",
              "    </tr>\n",
              "    <tr>\n",
              "      <th>40834</th>\n",
              "      <td>American Samoa</td>\n",
              "      <td>Tahiti</td>\n",
              "      <td>8</td>\n",
              "      <td>1</td>\n",
              "      <td>Pacific Games</td>\n",
              "      <td>Samoa</td>\n",
              "      <td>7</td>\n",
              "      <td>2019</td>\n",
              "    </tr>\n",
              "    <tr>\n",
              "      <th>40835</th>\n",
              "      <td>Fiji</td>\n",
              "      <td>Solomon Islands</td>\n",
              "      <td>4</td>\n",
              "      <td>4</td>\n",
              "      <td>Pacific Games</td>\n",
              "      <td>Samoa</td>\n",
              "      <td>7</td>\n",
              "      <td>2019</td>\n",
              "    </tr>\n",
              "    <tr>\n",
              "      <th>40836</th>\n",
              "      <td>Senegal</td>\n",
              "      <td>Algeria</td>\n",
              "      <td>0</td>\n",
              "      <td>1</td>\n",
              "      <td>African Cup of Nations</td>\n",
              "      <td>Egypt</td>\n",
              "      <td>7</td>\n",
              "      <td>2019</td>\n",
              "    </tr>\n",
              "    <tr>\n",
              "      <th>40837</th>\n",
              "      <td>Tajikistan</td>\n",
              "      <td>North Korea</td>\n",
              "      <td>0</td>\n",
              "      <td>1</td>\n",
              "      <td>Intercontinental Cup</td>\n",
              "      <td>India</td>\n",
              "      <td>7</td>\n",
              "      <td>2019</td>\n",
              "    </tr>\n",
              "    <tr>\n",
              "      <th>40838</th>\n",
              "      <td>Papua New Guinea</td>\n",
              "      <td>Fiji</td>\n",
              "      <td>1</td>\n",
              "      <td>1</td>\n",
              "      <td>Pacific Games</td>\n",
              "      <td>Samoa</td>\n",
              "      <td>7</td>\n",
              "      <td>2019</td>\n",
              "    </tr>\n",
              "  </tbody>\n",
              "</table>\n",
              "<p>40839 rows × 8 columns</p>\n",
              "</div>"
            ],
            "text/plain": [
              "              home_team        away_team  home_score  ...   country month  year\n",
              "0              Scotland          England           0  ...  Scotland    11  1872\n",
              "1               England         Scotland           4  ...   England     3  1873\n",
              "2              Scotland          England           2  ...  Scotland     3  1874\n",
              "3               England         Scotland           2  ...   England     3  1875\n",
              "4              Scotland          England           3  ...  Scotland     3  1876\n",
              "...                 ...              ...         ...  ...       ...   ...   ...\n",
              "40834    American Samoa           Tahiti           8  ...     Samoa     7  2019\n",
              "40835              Fiji  Solomon Islands           4  ...     Samoa     7  2019\n",
              "40836           Senegal          Algeria           0  ...     Egypt     7  2019\n",
              "40837        Tajikistan      North Korea           0  ...     India     7  2019\n",
              "40838  Papua New Guinea             Fiji           1  ...     Samoa     7  2019\n",
              "\n",
              "[40839 rows x 8 columns]"
            ]
          },
          "metadata": {
            "tags": []
          },
          "execution_count": 17
        }
      ]
    },
    {
      "cell_type": "markdown",
      "metadata": {
        "id": "7H_QrvNUX2nZ"
      },
      "source": [
        "**Merging the datasets based on the home teams**"
      ]
    },
    {
      "cell_type": "code",
      "metadata": {
        "id": "bgsrukF2-AV0"
      },
      "source": [
        "#merging the datasets based on the hometeam\n",
        "hometeam = pd.merge(df1, df2, how = 'inner', left_on = ['country', 'rank_month', 'rank_year'], right_on = ['home_team','month', 'year'])"
      ],
      "execution_count": 18,
      "outputs": []
    },
    {
      "cell_type": "code",
      "metadata": {
        "colab": {
          "base_uri": "https://localhost:8080/",
          "height": 416
        },
        "id": "p2pik2VtYAGI",
        "outputId": "2e94c9a5-f3cf-4a16-aabd-a45dfb10bda9"
      },
      "source": [
        "hometeam"
      ],
      "execution_count": 19,
      "outputs": [
        {
          "output_type": "execute_result",
          "data": {
            "text/html": [
              "<div>\n",
              "<style scoped>\n",
              "    .dataframe tbody tr th:only-of-type {\n",
              "        vertical-align: middle;\n",
              "    }\n",
              "\n",
              "    .dataframe tbody tr th {\n",
              "        vertical-align: top;\n",
              "    }\n",
              "\n",
              "    .dataframe thead th {\n",
              "        text-align: right;\n",
              "    }\n",
              "</style>\n",
              "<table border=\"1\" class=\"dataframe\">\n",
              "  <thead>\n",
              "    <tr style=\"text-align: right;\">\n",
              "      <th></th>\n",
              "      <th>rank</th>\n",
              "      <th>country_x</th>\n",
              "      <th>rank_date</th>\n",
              "      <th>rank_month</th>\n",
              "      <th>rank_year</th>\n",
              "      <th>home_team</th>\n",
              "      <th>away_team</th>\n",
              "      <th>home_score</th>\n",
              "      <th>away_score</th>\n",
              "      <th>tournament</th>\n",
              "      <th>country_y</th>\n",
              "      <th>month</th>\n",
              "      <th>year</th>\n",
              "    </tr>\n",
              "  </thead>\n",
              "  <tbody>\n",
              "    <tr>\n",
              "      <th>0</th>\n",
              "      <td>4</td>\n",
              "      <td>Sweden</td>\n",
              "      <td>1993-08-08</td>\n",
              "      <td>8.0</td>\n",
              "      <td>1993.0</td>\n",
              "      <td>Sweden</td>\n",
              "      <td>Switzerland</td>\n",
              "      <td>1</td>\n",
              "      <td>2</td>\n",
              "      <td>Friendly</td>\n",
              "      <td>Sweden</td>\n",
              "      <td>8</td>\n",
              "      <td>1993</td>\n",
              "    </tr>\n",
              "    <tr>\n",
              "      <th>1</th>\n",
              "      <td>4</td>\n",
              "      <td>Sweden</td>\n",
              "      <td>1993-08-08</td>\n",
              "      <td>8.0</td>\n",
              "      <td>1993.0</td>\n",
              "      <td>Sweden</td>\n",
              "      <td>France</td>\n",
              "      <td>1</td>\n",
              "      <td>1</td>\n",
              "      <td>FIFA World Cup qualification</td>\n",
              "      <td>Sweden</td>\n",
              "      <td>8</td>\n",
              "      <td>1993</td>\n",
              "    </tr>\n",
              "    <tr>\n",
              "      <th>2</th>\n",
              "      <td>5</td>\n",
              "      <td>Argentina</td>\n",
              "      <td>1993-08-08</td>\n",
              "      <td>8.0</td>\n",
              "      <td>1993.0</td>\n",
              "      <td>Argentina</td>\n",
              "      <td>Peru</td>\n",
              "      <td>2</td>\n",
              "      <td>1</td>\n",
              "      <td>FIFA World Cup qualification</td>\n",
              "      <td>Argentina</td>\n",
              "      <td>8</td>\n",
              "      <td>1993</td>\n",
              "    </tr>\n",
              "    <tr>\n",
              "      <th>3</th>\n",
              "      <td>5</td>\n",
              "      <td>Argentina</td>\n",
              "      <td>1993-08-08</td>\n",
              "      <td>8.0</td>\n",
              "      <td>1993.0</td>\n",
              "      <td>Argentina</td>\n",
              "      <td>Paraguay</td>\n",
              "      <td>0</td>\n",
              "      <td>0</td>\n",
              "      <td>FIFA World Cup qualification</td>\n",
              "      <td>Argentina</td>\n",
              "      <td>8</td>\n",
              "      <td>1993</td>\n",
              "    </tr>\n",
              "    <tr>\n",
              "      <th>4</th>\n",
              "      <td>8</td>\n",
              "      <td>Brazil</td>\n",
              "      <td>1993-08-08</td>\n",
              "      <td>8.0</td>\n",
              "      <td>1993.0</td>\n",
              "      <td>Brazil</td>\n",
              "      <td>Mexico</td>\n",
              "      <td>1</td>\n",
              "      <td>1</td>\n",
              "      <td>Friendly</td>\n",
              "      <td>Brazil</td>\n",
              "      <td>8</td>\n",
              "      <td>1993</td>\n",
              "    </tr>\n",
              "    <tr>\n",
              "      <th>...</th>\n",
              "      <td>...</td>\n",
              "      <td>...</td>\n",
              "      <td>...</td>\n",
              "      <td>...</td>\n",
              "      <td>...</td>\n",
              "      <td>...</td>\n",
              "      <td>...</td>\n",
              "      <td>...</td>\n",
              "      <td>...</td>\n",
              "      <td>...</td>\n",
              "      <td>...</td>\n",
              "      <td>...</td>\n",
              "      <td>...</td>\n",
              "    </tr>\n",
              "    <tr>\n",
              "      <th>13228</th>\n",
              "      <td>137</td>\n",
              "      <td>Tanzania</td>\n",
              "      <td>2011-12-21</td>\n",
              "      <td>12.0</td>\n",
              "      <td>2011.0</td>\n",
              "      <td>Tanzania</td>\n",
              "      <td>Uganda</td>\n",
              "      <td>1</td>\n",
              "      <td>3</td>\n",
              "      <td>CECAFA Cup</td>\n",
              "      <td>Tanzania</td>\n",
              "      <td>12</td>\n",
              "      <td>2011</td>\n",
              "    </tr>\n",
              "    <tr>\n",
              "      <th>13229</th>\n",
              "      <td>137</td>\n",
              "      <td>Tanzania</td>\n",
              "      <td>2011-12-21</td>\n",
              "      <td>12.0</td>\n",
              "      <td>2011.0</td>\n",
              "      <td>Tanzania</td>\n",
              "      <td>Sudan</td>\n",
              "      <td>0</td>\n",
              "      <td>1</td>\n",
              "      <td>CECAFA Cup</td>\n",
              "      <td>Tanzania</td>\n",
              "      <td>12</td>\n",
              "      <td>2011</td>\n",
              "    </tr>\n",
              "    <tr>\n",
              "      <th>13230</th>\n",
              "      <td>140</td>\n",
              "      <td>Burundi</td>\n",
              "      <td>2011-12-21</td>\n",
              "      <td>12.0</td>\n",
              "      <td>2011.0</td>\n",
              "      <td>Burundi</td>\n",
              "      <td>Uganda</td>\n",
              "      <td>1</td>\n",
              "      <td>0</td>\n",
              "      <td>CECAFA Cup</td>\n",
              "      <td>Tanzania</td>\n",
              "      <td>12</td>\n",
              "      <td>2011</td>\n",
              "    </tr>\n",
              "    <tr>\n",
              "      <th>13231</th>\n",
              "      <td>140</td>\n",
              "      <td>Burundi</td>\n",
              "      <td>2011-12-21</td>\n",
              "      <td>12.0</td>\n",
              "      <td>2011.0</td>\n",
              "      <td>Burundi</td>\n",
              "      <td>Sudan</td>\n",
              "      <td>0</td>\n",
              "      <td>2</td>\n",
              "      <td>CECAFA Cup</td>\n",
              "      <td>Tanzania</td>\n",
              "      <td>12</td>\n",
              "      <td>2011</td>\n",
              "    </tr>\n",
              "    <tr>\n",
              "      <th>13232</th>\n",
              "      <td>151</td>\n",
              "      <td>Curaçao</td>\n",
              "      <td>2011-12-21</td>\n",
              "      <td>12.0</td>\n",
              "      <td>2011.0</td>\n",
              "      <td>Curaçao</td>\n",
              "      <td>Bonaire</td>\n",
              "      <td>1</td>\n",
              "      <td>3</td>\n",
              "      <td>ABCS Tournament</td>\n",
              "      <td>Suriname</td>\n",
              "      <td>12</td>\n",
              "      <td>2011</td>\n",
              "    </tr>\n",
              "  </tbody>\n",
              "</table>\n",
              "<p>13233 rows × 13 columns</p>\n",
              "</div>"
            ],
            "text/plain": [
              "       rank  country_x  rank_date  ...  country_y  month  year\n",
              "0         4     Sweden 1993-08-08  ...     Sweden      8  1993\n",
              "1         4     Sweden 1993-08-08  ...     Sweden      8  1993\n",
              "2         5  Argentina 1993-08-08  ...  Argentina      8  1993\n",
              "3         5  Argentina 1993-08-08  ...  Argentina      8  1993\n",
              "4         8     Brazil 1993-08-08  ...     Brazil      8  1993\n",
              "...     ...        ...        ...  ...        ...    ...   ...\n",
              "13228   137   Tanzania 2011-12-21  ...   Tanzania     12  2011\n",
              "13229   137   Tanzania 2011-12-21  ...   Tanzania     12  2011\n",
              "13230   140    Burundi 2011-12-21  ...   Tanzania     12  2011\n",
              "13231   140    Burundi 2011-12-21  ...   Tanzania     12  2011\n",
              "13232   151    Curaçao 2011-12-21  ...   Suriname     12  2011\n",
              "\n",
              "[13233 rows x 13 columns]"
            ]
          },
          "metadata": {
            "tags": []
          },
          "execution_count": 19
        }
      ]
    },
    {
      "cell_type": "code",
      "metadata": {
        "id": "3JK5P-5pA0T8"
      },
      "source": [
        "hometeam.rename(columns={'rank':'hometeam_rank'}, inplace=True)"
      ],
      "execution_count": 20,
      "outputs": []
    },
    {
      "cell_type": "code",
      "metadata": {
        "colab": {
          "base_uri": "https://localhost:8080/",
          "height": 416
        },
        "id": "gdZmtC9kBQeG",
        "outputId": "c4851c98-5bfb-4fd7-8024-6fa48e7fbd4f"
      },
      "source": [
        "hometeam.drop_duplicates(subset=['rank_month', 'rank_year', 'month', 'year'], keep='first')\n"
      ],
      "execution_count": 22,
      "outputs": [
        {
          "output_type": "execute_result",
          "data": {
            "text/html": [
              "<div>\n",
              "<style scoped>\n",
              "    .dataframe tbody tr th:only-of-type {\n",
              "        vertical-align: middle;\n",
              "    }\n",
              "\n",
              "    .dataframe tbody tr th {\n",
              "        vertical-align: top;\n",
              "    }\n",
              "\n",
              "    .dataframe thead th {\n",
              "        text-align: right;\n",
              "    }\n",
              "</style>\n",
              "<table border=\"1\" class=\"dataframe\">\n",
              "  <thead>\n",
              "    <tr style=\"text-align: right;\">\n",
              "      <th></th>\n",
              "      <th>hometeam_rank</th>\n",
              "      <th>country_x</th>\n",
              "      <th>rank_date</th>\n",
              "      <th>rank_month</th>\n",
              "      <th>rank_year</th>\n",
              "      <th>home_team</th>\n",
              "      <th>away_team</th>\n",
              "      <th>home_score</th>\n",
              "      <th>away_score</th>\n",
              "      <th>tournament</th>\n",
              "      <th>country_y</th>\n",
              "      <th>month</th>\n",
              "      <th>year</th>\n",
              "    </tr>\n",
              "  </thead>\n",
              "  <tbody>\n",
              "    <tr>\n",
              "      <th>0</th>\n",
              "      <td>4</td>\n",
              "      <td>Sweden</td>\n",
              "      <td>1993-08-08</td>\n",
              "      <td>8.0</td>\n",
              "      <td>1993.0</td>\n",
              "      <td>Sweden</td>\n",
              "      <td>Switzerland</td>\n",
              "      <td>1</td>\n",
              "      <td>2</td>\n",
              "      <td>Friendly</td>\n",
              "      <td>Sweden</td>\n",
              "      <td>8</td>\n",
              "      <td>1993</td>\n",
              "    </tr>\n",
              "    <tr>\n",
              "      <th>33</th>\n",
              "      <td>1</td>\n",
              "      <td>Brazil</td>\n",
              "      <td>1993-09-23</td>\n",
              "      <td>9.0</td>\n",
              "      <td>1993.0</td>\n",
              "      <td>Brazil</td>\n",
              "      <td>Venezuela</td>\n",
              "      <td>4</td>\n",
              "      <td>0</td>\n",
              "      <td>FIFA World Cup qualification</td>\n",
              "      <td>Brazil</td>\n",
              "      <td>9</td>\n",
              "      <td>1993</td>\n",
              "    </tr>\n",
              "    <tr>\n",
              "      <th>72</th>\n",
              "      <td>3</td>\n",
              "      <td>Italy</td>\n",
              "      <td>1993-10-22</td>\n",
              "      <td>10.0</td>\n",
              "      <td>1993.0</td>\n",
              "      <td>Italy</td>\n",
              "      <td>Scotland</td>\n",
              "      <td>3</td>\n",
              "      <td>1</td>\n",
              "      <td>FIFA World Cup qualification</td>\n",
              "      <td>Italy</td>\n",
              "      <td>10</td>\n",
              "      <td>1993</td>\n",
              "    </tr>\n",
              "    <tr>\n",
              "      <th>112</th>\n",
              "      <td>1</td>\n",
              "      <td>Italy</td>\n",
              "      <td>1993-11-19</td>\n",
              "      <td>11.0</td>\n",
              "      <td>1993.0</td>\n",
              "      <td>Italy</td>\n",
              "      <td>Portugal</td>\n",
              "      <td>1</td>\n",
              "      <td>0</td>\n",
              "      <td>FIFA World Cup qualification</td>\n",
              "      <td>Italy</td>\n",
              "      <td>11</td>\n",
              "      <td>1993</td>\n",
              "    </tr>\n",
              "    <tr>\n",
              "      <th>148</th>\n",
              "      <td>8</td>\n",
              "      <td>Argentina</td>\n",
              "      <td>1993-12-23</td>\n",
              "      <td>12.0</td>\n",
              "      <td>1993.0</td>\n",
              "      <td>Argentina</td>\n",
              "      <td>Germany</td>\n",
              "      <td>2</td>\n",
              "      <td>1</td>\n",
              "      <td>Friendly</td>\n",
              "      <td>United States</td>\n",
              "      <td>12</td>\n",
              "      <td>1993</td>\n",
              "    </tr>\n",
              "    <tr>\n",
              "      <th>...</th>\n",
              "      <td>...</td>\n",
              "      <td>...</td>\n",
              "      <td>...</td>\n",
              "      <td>...</td>\n",
              "      <td>...</td>\n",
              "      <td>...</td>\n",
              "      <td>...</td>\n",
              "      <td>...</td>\n",
              "      <td>...</td>\n",
              "      <td>...</td>\n",
              "      <td>...</td>\n",
              "      <td>...</td>\n",
              "      <td>...</td>\n",
              "    </tr>\n",
              "    <tr>\n",
              "      <th>12734</th>\n",
              "      <td>3</td>\n",
              "      <td>Germany</td>\n",
              "      <td>2011-08-24</td>\n",
              "      <td>8.0</td>\n",
              "      <td>2011.0</td>\n",
              "      <td>Germany</td>\n",
              "      <td>Brazil</td>\n",
              "      <td>3</td>\n",
              "      <td>2</td>\n",
              "      <td>Friendly</td>\n",
              "      <td>Germany</td>\n",
              "      <td>8</td>\n",
              "      <td>2011</td>\n",
              "    </tr>\n",
              "    <tr>\n",
              "      <th>12810</th>\n",
              "      <td>1</td>\n",
              "      <td>Spain</td>\n",
              "      <td>2011-09-21</td>\n",
              "      <td>9.0</td>\n",
              "      <td>2011.0</td>\n",
              "      <td>Spain</td>\n",
              "      <td>Chile</td>\n",
              "      <td>3</td>\n",
              "      <td>2</td>\n",
              "      <td>Friendly</td>\n",
              "      <td>Switzerland</td>\n",
              "      <td>9</td>\n",
              "      <td>2011</td>\n",
              "    </tr>\n",
              "    <tr>\n",
              "      <th>12954</th>\n",
              "      <td>1</td>\n",
              "      <td>Spain</td>\n",
              "      <td>2011-10-19</td>\n",
              "      <td>10.0</td>\n",
              "      <td>2011.0</td>\n",
              "      <td>Spain</td>\n",
              "      <td>Scotland</td>\n",
              "      <td>3</td>\n",
              "      <td>1</td>\n",
              "      <td>UEFA Euro qualification</td>\n",
              "      <td>Spain</td>\n",
              "      <td>10</td>\n",
              "      <td>2011</td>\n",
              "    </tr>\n",
              "    <tr>\n",
              "      <th>13067</th>\n",
              "      <td>2</td>\n",
              "      <td>Netherlands</td>\n",
              "      <td>2011-11-23</td>\n",
              "      <td>11.0</td>\n",
              "      <td>2011.0</td>\n",
              "      <td>Netherlands</td>\n",
              "      <td>Switzerland</td>\n",
              "      <td>0</td>\n",
              "      <td>0</td>\n",
              "      <td>Friendly</td>\n",
              "      <td>Netherlands</td>\n",
              "      <td>11</td>\n",
              "      <td>2011</td>\n",
              "    </tr>\n",
              "    <tr>\n",
              "      <th>13209</th>\n",
              "      <td>13</td>\n",
              "      <td>Chile</td>\n",
              "      <td>2011-12-21</td>\n",
              "      <td>12.0</td>\n",
              "      <td>2011.0</td>\n",
              "      <td>Chile</td>\n",
              "      <td>Paraguay</td>\n",
              "      <td>3</td>\n",
              "      <td>2</td>\n",
              "      <td>Friendly</td>\n",
              "      <td>Chile</td>\n",
              "      <td>12</td>\n",
              "      <td>2011</td>\n",
              "    </tr>\n",
              "  </tbody>\n",
              "</table>\n",
              "<p>207 rows × 13 columns</p>\n",
              "</div>"
            ],
            "text/plain": [
              "       hometeam_rank    country_x  rank_date  ...      country_y  month  year\n",
              "0                  4       Sweden 1993-08-08  ...         Sweden      8  1993\n",
              "33                 1       Brazil 1993-09-23  ...         Brazil      9  1993\n",
              "72                 3        Italy 1993-10-22  ...          Italy     10  1993\n",
              "112                1        Italy 1993-11-19  ...          Italy     11  1993\n",
              "148                8    Argentina 1993-12-23  ...  United States     12  1993\n",
              "...              ...          ...        ...  ...            ...    ...   ...\n",
              "12734              3      Germany 2011-08-24  ...        Germany      8  2011\n",
              "12810              1        Spain 2011-09-21  ...    Switzerland      9  2011\n",
              "12954              1        Spain 2011-10-19  ...          Spain     10  2011\n",
              "13067              2  Netherlands 2011-11-23  ...    Netherlands     11  2011\n",
              "13209             13        Chile 2011-12-21  ...          Chile     12  2011\n",
              "\n",
              "[207 rows x 13 columns]"
            ]
          },
          "metadata": {
            "tags": []
          },
          "execution_count": 22
        }
      ]
    },
    {
      "cell_type": "markdown",
      "metadata": {
        "id": "p9CeqUyJYYIR"
      },
      "source": [
        "**Merging interms of the away team**"
      ]
    },
    {
      "cell_type": "code",
      "metadata": {
        "colab": {
          "base_uri": "https://localhost:8080/",
          "height": 644
        },
        "id": "0_BxbyPwYWUg",
        "outputId": "67dcc486-708a-4d6d-986b-d46a92f4c090"
      },
      "source": [
        "# merging in terms of the away team\n",
        "final_df = pd.merge(df1, hometeam, how='inner', left_on=['country', 'rank_month', 'rank_year'], right_on=['away_team', 'month', 'year'])\n",
        "final_df"
      ],
      "execution_count": 23,
      "outputs": [
        {
          "output_type": "execute_result",
          "data": {
            "text/html": [
              "<div>\n",
              "<style scoped>\n",
              "    .dataframe tbody tr th:only-of-type {\n",
              "        vertical-align: middle;\n",
              "    }\n",
              "\n",
              "    .dataframe tbody tr th {\n",
              "        vertical-align: top;\n",
              "    }\n",
              "\n",
              "    .dataframe thead th {\n",
              "        text-align: right;\n",
              "    }\n",
              "</style>\n",
              "<table border=\"1\" class=\"dataframe\">\n",
              "  <thead>\n",
              "    <tr style=\"text-align: right;\">\n",
              "      <th></th>\n",
              "      <th>rank</th>\n",
              "      <th>country</th>\n",
              "      <th>rank_date_x</th>\n",
              "      <th>rank_month_x</th>\n",
              "      <th>rank_year_x</th>\n",
              "      <th>hometeam_rank</th>\n",
              "      <th>country_x</th>\n",
              "      <th>rank_date_y</th>\n",
              "      <th>rank_month_y</th>\n",
              "      <th>rank_year_y</th>\n",
              "      <th>home_team</th>\n",
              "      <th>away_team</th>\n",
              "      <th>home_score</th>\n",
              "      <th>away_score</th>\n",
              "      <th>tournament</th>\n",
              "      <th>country_y</th>\n",
              "      <th>month</th>\n",
              "      <th>year</th>\n",
              "    </tr>\n",
              "  </thead>\n",
              "  <tbody>\n",
              "    <tr>\n",
              "      <th>0</th>\n",
              "      <td>3</td>\n",
              "      <td>Switzerland</td>\n",
              "      <td>1993-08-08</td>\n",
              "      <td>8.0</td>\n",
              "      <td>1993.0</td>\n",
              "      <td>4</td>\n",
              "      <td>Sweden</td>\n",
              "      <td>1993-08-08</td>\n",
              "      <td>8.0</td>\n",
              "      <td>1993.0</td>\n",
              "      <td>Sweden</td>\n",
              "      <td>Switzerland</td>\n",
              "      <td>1</td>\n",
              "      <td>2</td>\n",
              "      <td>Friendly</td>\n",
              "      <td>Sweden</td>\n",
              "      <td>8</td>\n",
              "      <td>1993</td>\n",
              "    </tr>\n",
              "    <tr>\n",
              "      <th>1</th>\n",
              "      <td>5</td>\n",
              "      <td>Argentina</td>\n",
              "      <td>1993-08-08</td>\n",
              "      <td>8.0</td>\n",
              "      <td>1993.0</td>\n",
              "      <td>19</td>\n",
              "      <td>Colombia</td>\n",
              "      <td>1993-08-08</td>\n",
              "      <td>8.0</td>\n",
              "      <td>1993.0</td>\n",
              "      <td>Colombia</td>\n",
              "      <td>Argentina</td>\n",
              "      <td>2</td>\n",
              "      <td>1</td>\n",
              "      <td>FIFA World Cup qualification</td>\n",
              "      <td>Colombia</td>\n",
              "      <td>8</td>\n",
              "      <td>1993</td>\n",
              "    </tr>\n",
              "    <tr>\n",
              "      <th>2</th>\n",
              "      <td>5</td>\n",
              "      <td>Argentina</td>\n",
              "      <td>1993-08-08</td>\n",
              "      <td>8.0</td>\n",
              "      <td>1993.0</td>\n",
              "      <td>67</td>\n",
              "      <td>Paraguay</td>\n",
              "      <td>1993-08-08</td>\n",
              "      <td>8.0</td>\n",
              "      <td>1993.0</td>\n",
              "      <td>Paraguay</td>\n",
              "      <td>Argentina</td>\n",
              "      <td>1</td>\n",
              "      <td>3</td>\n",
              "      <td>FIFA World Cup qualification</td>\n",
              "      <td>Paraguay</td>\n",
              "      <td>8</td>\n",
              "      <td>1993</td>\n",
              "    </tr>\n",
              "    <tr>\n",
              "      <th>3</th>\n",
              "      <td>5</td>\n",
              "      <td>Argentina</td>\n",
              "      <td>1993-08-08</td>\n",
              "      <td>8.0</td>\n",
              "      <td>1993.0</td>\n",
              "      <td>70</td>\n",
              "      <td>Peru</td>\n",
              "      <td>1993-08-08</td>\n",
              "      <td>8.0</td>\n",
              "      <td>1993.0</td>\n",
              "      <td>Peru</td>\n",
              "      <td>Argentina</td>\n",
              "      <td>0</td>\n",
              "      <td>1</td>\n",
              "      <td>FIFA World Cup qualification</td>\n",
              "      <td>Peru</td>\n",
              "      <td>8</td>\n",
              "      <td>1993</td>\n",
              "    </tr>\n",
              "    <tr>\n",
              "      <th>4</th>\n",
              "      <td>8</td>\n",
              "      <td>Brazil</td>\n",
              "      <td>1993-08-08</td>\n",
              "      <td>8.0</td>\n",
              "      <td>1993.0</td>\n",
              "      <td>22</td>\n",
              "      <td>Uruguay</td>\n",
              "      <td>1993-08-08</td>\n",
              "      <td>8.0</td>\n",
              "      <td>1993.0</td>\n",
              "      <td>Uruguay</td>\n",
              "      <td>Brazil</td>\n",
              "      <td>1</td>\n",
              "      <td>1</td>\n",
              "      <td>FIFA World Cup qualification</td>\n",
              "      <td>Uruguay</td>\n",
              "      <td>8</td>\n",
              "      <td>1993</td>\n",
              "    </tr>\n",
              "    <tr>\n",
              "      <th>...</th>\n",
              "      <td>...</td>\n",
              "      <td>...</td>\n",
              "      <td>...</td>\n",
              "      <td>...</td>\n",
              "      <td>...</td>\n",
              "      <td>...</td>\n",
              "      <td>...</td>\n",
              "      <td>...</td>\n",
              "      <td>...</td>\n",
              "      <td>...</td>\n",
              "      <td>...</td>\n",
              "      <td>...</td>\n",
              "      <td>...</td>\n",
              "      <td>...</td>\n",
              "      <td>...</td>\n",
              "      <td>...</td>\n",
              "      <td>...</td>\n",
              "      <td>...</td>\n",
              "    </tr>\n",
              "    <tr>\n",
              "      <th>12042</th>\n",
              "      <td>113</td>\n",
              "      <td>Sudan</td>\n",
              "      <td>2011-12-21</td>\n",
              "      <td>12.0</td>\n",
              "      <td>2011.0</td>\n",
              "      <td>120</td>\n",
              "      <td>Kenya</td>\n",
              "      <td>2011-12-21</td>\n",
              "      <td>12.0</td>\n",
              "      <td>2011.0</td>\n",
              "      <td>Kenya</td>\n",
              "      <td>Sudan</td>\n",
              "      <td>0</td>\n",
              "      <td>1</td>\n",
              "      <td>CECAFA Cup</td>\n",
              "      <td>Tanzania</td>\n",
              "      <td>12</td>\n",
              "      <td>2011</td>\n",
              "    </tr>\n",
              "    <tr>\n",
              "      <th>12043</th>\n",
              "      <td>113</td>\n",
              "      <td>Sudan</td>\n",
              "      <td>2011-12-21</td>\n",
              "      <td>12.0</td>\n",
              "      <td>2011.0</td>\n",
              "      <td>137</td>\n",
              "      <td>Tanzania</td>\n",
              "      <td>2011-12-21</td>\n",
              "      <td>12.0</td>\n",
              "      <td>2011.0</td>\n",
              "      <td>Tanzania</td>\n",
              "      <td>Sudan</td>\n",
              "      <td>0</td>\n",
              "      <td>1</td>\n",
              "      <td>CECAFA Cup</td>\n",
              "      <td>Tanzania</td>\n",
              "      <td>12</td>\n",
              "      <td>2011</td>\n",
              "    </tr>\n",
              "    <tr>\n",
              "      <th>12044</th>\n",
              "      <td>113</td>\n",
              "      <td>Sudan</td>\n",
              "      <td>2011-12-21</td>\n",
              "      <td>12.0</td>\n",
              "      <td>2011.0</td>\n",
              "      <td>140</td>\n",
              "      <td>Burundi</td>\n",
              "      <td>2011-12-21</td>\n",
              "      <td>12.0</td>\n",
              "      <td>2011.0</td>\n",
              "      <td>Burundi</td>\n",
              "      <td>Sudan</td>\n",
              "      <td>0</td>\n",
              "      <td>2</td>\n",
              "      <td>CECAFA Cup</td>\n",
              "      <td>Tanzania</td>\n",
              "      <td>12</td>\n",
              "      <td>2011</td>\n",
              "    </tr>\n",
              "    <tr>\n",
              "      <th>12045</th>\n",
              "      <td>121</td>\n",
              "      <td>Namibia</td>\n",
              "      <td>2011-12-21</td>\n",
              "      <td>12.0</td>\n",
              "      <td>2011.0</td>\n",
              "      <td>83</td>\n",
              "      <td>Angola</td>\n",
              "      <td>2011-12-21</td>\n",
              "      <td>12.0</td>\n",
              "      <td>2011.0</td>\n",
              "      <td>Angola</td>\n",
              "      <td>Namibia</td>\n",
              "      <td>0</td>\n",
              "      <td>0</td>\n",
              "      <td>Friendly</td>\n",
              "      <td>Angola</td>\n",
              "      <td>12</td>\n",
              "      <td>2011</td>\n",
              "    </tr>\n",
              "    <tr>\n",
              "      <th>12046</th>\n",
              "      <td>151</td>\n",
              "      <td>Curaçao</td>\n",
              "      <td>2011-12-21</td>\n",
              "      <td>12.0</td>\n",
              "      <td>2011.0</td>\n",
              "      <td>125</td>\n",
              "      <td>Suriname</td>\n",
              "      <td>2011-12-21</td>\n",
              "      <td>12.0</td>\n",
              "      <td>2011.0</td>\n",
              "      <td>Suriname</td>\n",
              "      <td>Curaçao</td>\n",
              "      <td>2</td>\n",
              "      <td>0</td>\n",
              "      <td>ABCS Tournament</td>\n",
              "      <td>Suriname</td>\n",
              "      <td>12</td>\n",
              "      <td>2011</td>\n",
              "    </tr>\n",
              "  </tbody>\n",
              "</table>\n",
              "<p>12047 rows × 18 columns</p>\n",
              "</div>"
            ],
            "text/plain": [
              "       rank      country rank_date_x  ...  country_y  month  year\n",
              "0         3  Switzerland  1993-08-08  ...     Sweden      8  1993\n",
              "1         5    Argentina  1993-08-08  ...   Colombia      8  1993\n",
              "2         5    Argentina  1993-08-08  ...   Paraguay      8  1993\n",
              "3         5    Argentina  1993-08-08  ...       Peru      8  1993\n",
              "4         8       Brazil  1993-08-08  ...    Uruguay      8  1993\n",
              "...     ...          ...         ...  ...        ...    ...   ...\n",
              "12042   113        Sudan  2011-12-21  ...   Tanzania     12  2011\n",
              "12043   113        Sudan  2011-12-21  ...   Tanzania     12  2011\n",
              "12044   113        Sudan  2011-12-21  ...   Tanzania     12  2011\n",
              "12045   121      Namibia  2011-12-21  ...     Angola     12  2011\n",
              "12046   151      Curaçao  2011-12-21  ...   Suriname     12  2011\n",
              "\n",
              "[12047 rows x 18 columns]"
            ]
          },
          "metadata": {
            "tags": []
          },
          "execution_count": 23
        }
      ]
    },
    {
      "cell_type": "code",
      "metadata": {
        "id": "APq4mAXhE4gr"
      },
      "source": [
        "final_df.rename(columns={'rank':'awayteam_rank'}, inplace=True)"
      ],
      "execution_count": 24,
      "outputs": []
    },
    {
      "cell_type": "code",
      "metadata": {
        "id": "HKFg63I7FQX7"
      },
      "source": [
        "final_df.drop(['country_x', 'rank_month_x', 'rank_year_x', 'country_y', 'rank_month_y', 'rank_year_y'], axis=1, inplace=True)"
      ],
      "execution_count": 25,
      "outputs": []
    },
    {
      "cell_type": "code",
      "metadata": {
        "colab": {
          "base_uri": "https://localhost:8080/",
          "height": 416
        },
        "id": "gBcyh6YsYrmn",
        "outputId": "6044ad0f-8261-4695-a9e1-48cf0330ca30"
      },
      "source": [
        "final_df"
      ],
      "execution_count": 26,
      "outputs": [
        {
          "output_type": "execute_result",
          "data": {
            "text/html": [
              "<div>\n",
              "<style scoped>\n",
              "    .dataframe tbody tr th:only-of-type {\n",
              "        vertical-align: middle;\n",
              "    }\n",
              "\n",
              "    .dataframe tbody tr th {\n",
              "        vertical-align: top;\n",
              "    }\n",
              "\n",
              "    .dataframe thead th {\n",
              "        text-align: right;\n",
              "    }\n",
              "</style>\n",
              "<table border=\"1\" class=\"dataframe\">\n",
              "  <thead>\n",
              "    <tr style=\"text-align: right;\">\n",
              "      <th></th>\n",
              "      <th>awayteam_rank</th>\n",
              "      <th>country</th>\n",
              "      <th>rank_date_x</th>\n",
              "      <th>hometeam_rank</th>\n",
              "      <th>rank_date_y</th>\n",
              "      <th>home_team</th>\n",
              "      <th>away_team</th>\n",
              "      <th>home_score</th>\n",
              "      <th>away_score</th>\n",
              "      <th>tournament</th>\n",
              "      <th>month</th>\n",
              "      <th>year</th>\n",
              "    </tr>\n",
              "  </thead>\n",
              "  <tbody>\n",
              "    <tr>\n",
              "      <th>0</th>\n",
              "      <td>3</td>\n",
              "      <td>Switzerland</td>\n",
              "      <td>1993-08-08</td>\n",
              "      <td>4</td>\n",
              "      <td>1993-08-08</td>\n",
              "      <td>Sweden</td>\n",
              "      <td>Switzerland</td>\n",
              "      <td>1</td>\n",
              "      <td>2</td>\n",
              "      <td>Friendly</td>\n",
              "      <td>8</td>\n",
              "      <td>1993</td>\n",
              "    </tr>\n",
              "    <tr>\n",
              "      <th>1</th>\n",
              "      <td>5</td>\n",
              "      <td>Argentina</td>\n",
              "      <td>1993-08-08</td>\n",
              "      <td>19</td>\n",
              "      <td>1993-08-08</td>\n",
              "      <td>Colombia</td>\n",
              "      <td>Argentina</td>\n",
              "      <td>2</td>\n",
              "      <td>1</td>\n",
              "      <td>FIFA World Cup qualification</td>\n",
              "      <td>8</td>\n",
              "      <td>1993</td>\n",
              "    </tr>\n",
              "    <tr>\n",
              "      <th>2</th>\n",
              "      <td>5</td>\n",
              "      <td>Argentina</td>\n",
              "      <td>1993-08-08</td>\n",
              "      <td>67</td>\n",
              "      <td>1993-08-08</td>\n",
              "      <td>Paraguay</td>\n",
              "      <td>Argentina</td>\n",
              "      <td>1</td>\n",
              "      <td>3</td>\n",
              "      <td>FIFA World Cup qualification</td>\n",
              "      <td>8</td>\n",
              "      <td>1993</td>\n",
              "    </tr>\n",
              "    <tr>\n",
              "      <th>3</th>\n",
              "      <td>5</td>\n",
              "      <td>Argentina</td>\n",
              "      <td>1993-08-08</td>\n",
              "      <td>70</td>\n",
              "      <td>1993-08-08</td>\n",
              "      <td>Peru</td>\n",
              "      <td>Argentina</td>\n",
              "      <td>0</td>\n",
              "      <td>1</td>\n",
              "      <td>FIFA World Cup qualification</td>\n",
              "      <td>8</td>\n",
              "      <td>1993</td>\n",
              "    </tr>\n",
              "    <tr>\n",
              "      <th>4</th>\n",
              "      <td>8</td>\n",
              "      <td>Brazil</td>\n",
              "      <td>1993-08-08</td>\n",
              "      <td>22</td>\n",
              "      <td>1993-08-08</td>\n",
              "      <td>Uruguay</td>\n",
              "      <td>Brazil</td>\n",
              "      <td>1</td>\n",
              "      <td>1</td>\n",
              "      <td>FIFA World Cup qualification</td>\n",
              "      <td>8</td>\n",
              "      <td>1993</td>\n",
              "    </tr>\n",
              "    <tr>\n",
              "      <th>...</th>\n",
              "      <td>...</td>\n",
              "      <td>...</td>\n",
              "      <td>...</td>\n",
              "      <td>...</td>\n",
              "      <td>...</td>\n",
              "      <td>...</td>\n",
              "      <td>...</td>\n",
              "      <td>...</td>\n",
              "      <td>...</td>\n",
              "      <td>...</td>\n",
              "      <td>...</td>\n",
              "      <td>...</td>\n",
              "    </tr>\n",
              "    <tr>\n",
              "      <th>12042</th>\n",
              "      <td>113</td>\n",
              "      <td>Sudan</td>\n",
              "      <td>2011-12-21</td>\n",
              "      <td>120</td>\n",
              "      <td>2011-12-21</td>\n",
              "      <td>Kenya</td>\n",
              "      <td>Sudan</td>\n",
              "      <td>0</td>\n",
              "      <td>1</td>\n",
              "      <td>CECAFA Cup</td>\n",
              "      <td>12</td>\n",
              "      <td>2011</td>\n",
              "    </tr>\n",
              "    <tr>\n",
              "      <th>12043</th>\n",
              "      <td>113</td>\n",
              "      <td>Sudan</td>\n",
              "      <td>2011-12-21</td>\n",
              "      <td>137</td>\n",
              "      <td>2011-12-21</td>\n",
              "      <td>Tanzania</td>\n",
              "      <td>Sudan</td>\n",
              "      <td>0</td>\n",
              "      <td>1</td>\n",
              "      <td>CECAFA Cup</td>\n",
              "      <td>12</td>\n",
              "      <td>2011</td>\n",
              "    </tr>\n",
              "    <tr>\n",
              "      <th>12044</th>\n",
              "      <td>113</td>\n",
              "      <td>Sudan</td>\n",
              "      <td>2011-12-21</td>\n",
              "      <td>140</td>\n",
              "      <td>2011-12-21</td>\n",
              "      <td>Burundi</td>\n",
              "      <td>Sudan</td>\n",
              "      <td>0</td>\n",
              "      <td>2</td>\n",
              "      <td>CECAFA Cup</td>\n",
              "      <td>12</td>\n",
              "      <td>2011</td>\n",
              "    </tr>\n",
              "    <tr>\n",
              "      <th>12045</th>\n",
              "      <td>121</td>\n",
              "      <td>Namibia</td>\n",
              "      <td>2011-12-21</td>\n",
              "      <td>83</td>\n",
              "      <td>2011-12-21</td>\n",
              "      <td>Angola</td>\n",
              "      <td>Namibia</td>\n",
              "      <td>0</td>\n",
              "      <td>0</td>\n",
              "      <td>Friendly</td>\n",
              "      <td>12</td>\n",
              "      <td>2011</td>\n",
              "    </tr>\n",
              "    <tr>\n",
              "      <th>12046</th>\n",
              "      <td>151</td>\n",
              "      <td>Curaçao</td>\n",
              "      <td>2011-12-21</td>\n",
              "      <td>125</td>\n",
              "      <td>2011-12-21</td>\n",
              "      <td>Suriname</td>\n",
              "      <td>Curaçao</td>\n",
              "      <td>2</td>\n",
              "      <td>0</td>\n",
              "      <td>ABCS Tournament</td>\n",
              "      <td>12</td>\n",
              "      <td>2011</td>\n",
              "    </tr>\n",
              "  </tbody>\n",
              "</table>\n",
              "<p>12047 rows × 12 columns</p>\n",
              "</div>"
            ],
            "text/plain": [
              "       awayteam_rank      country  ... month  year\n",
              "0                  3  Switzerland  ...     8  1993\n",
              "1                  5    Argentina  ...     8  1993\n",
              "2                  5    Argentina  ...     8  1993\n",
              "3                  5    Argentina  ...     8  1993\n",
              "4                  8       Brazil  ...     8  1993\n",
              "...              ...          ...  ...   ...   ...\n",
              "12042            113        Sudan  ...    12  2011\n",
              "12043            113        Sudan  ...    12  2011\n",
              "12044            113        Sudan  ...    12  2011\n",
              "12045            121      Namibia  ...    12  2011\n",
              "12046            151      Curaçao  ...    12  2011\n",
              "\n",
              "[12047 rows x 12 columns]"
            ]
          },
          "metadata": {
            "tags": []
          },
          "execution_count": 26
        }
      ]
    },
    {
      "cell_type": "code",
      "metadata": {
        "colab": {
          "base_uri": "https://localhost:8080/"
        },
        "id": "sQtWw8InZR77",
        "outputId": "972d273f-5968-4abb-b072-4f20d749e598"
      },
      "source": [
        "# checking the shape of our final dataset\n",
        "final_df.shape"
      ],
      "execution_count": 28,
      "outputs": [
        {
          "output_type": "execute_result",
          "data": {
            "text/plain": [
              "(12047, 12)"
            ]
          },
          "metadata": {
            "tags": []
          },
          "execution_count": 28
        }
      ]
    },
    {
      "cell_type": "code",
      "metadata": {
        "colab": {
          "base_uri": "https://localhost:8080/"
        },
        "id": "CinLrkVZZnPy",
        "outputId": "b082ae29-9196-4037-9569-0918384b3798"
      },
      "source": [
        "# checking for duplicates\n",
        "final_df.duplicated()"
      ],
      "execution_count": 30,
      "outputs": [
        {
          "output_type": "execute_result",
          "data": {
            "text/plain": [
              "0        False\n",
              "1        False\n",
              "2        False\n",
              "3        False\n",
              "4        False\n",
              "         ...  \n",
              "12042     True\n",
              "12043     True\n",
              "12044     True\n",
              "12045    False\n",
              "12046    False\n",
              "Length: 12047, dtype: bool"
            ]
          },
          "metadata": {
            "tags": []
          },
          "execution_count": 30
        }
      ]
    },
    {
      "cell_type": "code",
      "metadata": {
        "colab": {
          "base_uri": "https://localhost:8080/",
          "height": 416
        },
        "id": "tNJ7CeIyZ1Bv",
        "outputId": "4d8f1d20-097c-49fc-d4a9-2041bb9e463b"
      },
      "source": [
        "# dropping the duplicates\n",
        "final_df.drop_duplicates()"
      ],
      "execution_count": 32,
      "outputs": [
        {
          "output_type": "execute_result",
          "data": {
            "text/html": [
              "<div>\n",
              "<style scoped>\n",
              "    .dataframe tbody tr th:only-of-type {\n",
              "        vertical-align: middle;\n",
              "    }\n",
              "\n",
              "    .dataframe tbody tr th {\n",
              "        vertical-align: top;\n",
              "    }\n",
              "\n",
              "    .dataframe thead th {\n",
              "        text-align: right;\n",
              "    }\n",
              "</style>\n",
              "<table border=\"1\" class=\"dataframe\">\n",
              "  <thead>\n",
              "    <tr style=\"text-align: right;\">\n",
              "      <th></th>\n",
              "      <th>awayteam_rank</th>\n",
              "      <th>country</th>\n",
              "      <th>rank_date_x</th>\n",
              "      <th>hometeam_rank</th>\n",
              "      <th>rank_date_y</th>\n",
              "      <th>home_team</th>\n",
              "      <th>away_team</th>\n",
              "      <th>home_score</th>\n",
              "      <th>away_score</th>\n",
              "      <th>tournament</th>\n",
              "      <th>month</th>\n",
              "      <th>year</th>\n",
              "    </tr>\n",
              "  </thead>\n",
              "  <tbody>\n",
              "    <tr>\n",
              "      <th>0</th>\n",
              "      <td>3</td>\n",
              "      <td>Switzerland</td>\n",
              "      <td>1993-08-08</td>\n",
              "      <td>4</td>\n",
              "      <td>1993-08-08</td>\n",
              "      <td>Sweden</td>\n",
              "      <td>Switzerland</td>\n",
              "      <td>1</td>\n",
              "      <td>2</td>\n",
              "      <td>Friendly</td>\n",
              "      <td>8</td>\n",
              "      <td>1993</td>\n",
              "    </tr>\n",
              "    <tr>\n",
              "      <th>1</th>\n",
              "      <td>5</td>\n",
              "      <td>Argentina</td>\n",
              "      <td>1993-08-08</td>\n",
              "      <td>19</td>\n",
              "      <td>1993-08-08</td>\n",
              "      <td>Colombia</td>\n",
              "      <td>Argentina</td>\n",
              "      <td>2</td>\n",
              "      <td>1</td>\n",
              "      <td>FIFA World Cup qualification</td>\n",
              "      <td>8</td>\n",
              "      <td>1993</td>\n",
              "    </tr>\n",
              "    <tr>\n",
              "      <th>2</th>\n",
              "      <td>5</td>\n",
              "      <td>Argentina</td>\n",
              "      <td>1993-08-08</td>\n",
              "      <td>67</td>\n",
              "      <td>1993-08-08</td>\n",
              "      <td>Paraguay</td>\n",
              "      <td>Argentina</td>\n",
              "      <td>1</td>\n",
              "      <td>3</td>\n",
              "      <td>FIFA World Cup qualification</td>\n",
              "      <td>8</td>\n",
              "      <td>1993</td>\n",
              "    </tr>\n",
              "    <tr>\n",
              "      <th>3</th>\n",
              "      <td>5</td>\n",
              "      <td>Argentina</td>\n",
              "      <td>1993-08-08</td>\n",
              "      <td>70</td>\n",
              "      <td>1993-08-08</td>\n",
              "      <td>Peru</td>\n",
              "      <td>Argentina</td>\n",
              "      <td>0</td>\n",
              "      <td>1</td>\n",
              "      <td>FIFA World Cup qualification</td>\n",
              "      <td>8</td>\n",
              "      <td>1993</td>\n",
              "    </tr>\n",
              "    <tr>\n",
              "      <th>4</th>\n",
              "      <td>8</td>\n",
              "      <td>Brazil</td>\n",
              "      <td>1993-08-08</td>\n",
              "      <td>22</td>\n",
              "      <td>1993-08-08</td>\n",
              "      <td>Uruguay</td>\n",
              "      <td>Brazil</td>\n",
              "      <td>1</td>\n",
              "      <td>1</td>\n",
              "      <td>FIFA World Cup qualification</td>\n",
              "      <td>8</td>\n",
              "      <td>1993</td>\n",
              "    </tr>\n",
              "    <tr>\n",
              "      <th>...</th>\n",
              "      <td>...</td>\n",
              "      <td>...</td>\n",
              "      <td>...</td>\n",
              "      <td>...</td>\n",
              "      <td>...</td>\n",
              "      <td>...</td>\n",
              "      <td>...</td>\n",
              "      <td>...</td>\n",
              "      <td>...</td>\n",
              "      <td>...</td>\n",
              "      <td>...</td>\n",
              "      <td>...</td>\n",
              "    </tr>\n",
              "    <tr>\n",
              "      <th>12039</th>\n",
              "      <td>113</td>\n",
              "      <td>Sudan</td>\n",
              "      <td>2011-12-21</td>\n",
              "      <td>120</td>\n",
              "      <td>2011-12-21</td>\n",
              "      <td>Kenya</td>\n",
              "      <td>Sudan</td>\n",
              "      <td>0</td>\n",
              "      <td>1</td>\n",
              "      <td>CECAFA Cup</td>\n",
              "      <td>12</td>\n",
              "      <td>2011</td>\n",
              "    </tr>\n",
              "    <tr>\n",
              "      <th>12040</th>\n",
              "      <td>113</td>\n",
              "      <td>Sudan</td>\n",
              "      <td>2011-12-21</td>\n",
              "      <td>137</td>\n",
              "      <td>2011-12-21</td>\n",
              "      <td>Tanzania</td>\n",
              "      <td>Sudan</td>\n",
              "      <td>0</td>\n",
              "      <td>1</td>\n",
              "      <td>CECAFA Cup</td>\n",
              "      <td>12</td>\n",
              "      <td>2011</td>\n",
              "    </tr>\n",
              "    <tr>\n",
              "      <th>12041</th>\n",
              "      <td>113</td>\n",
              "      <td>Sudan</td>\n",
              "      <td>2011-12-21</td>\n",
              "      <td>140</td>\n",
              "      <td>2011-12-21</td>\n",
              "      <td>Burundi</td>\n",
              "      <td>Sudan</td>\n",
              "      <td>0</td>\n",
              "      <td>2</td>\n",
              "      <td>CECAFA Cup</td>\n",
              "      <td>12</td>\n",
              "      <td>2011</td>\n",
              "    </tr>\n",
              "    <tr>\n",
              "      <th>12045</th>\n",
              "      <td>121</td>\n",
              "      <td>Namibia</td>\n",
              "      <td>2011-12-21</td>\n",
              "      <td>83</td>\n",
              "      <td>2011-12-21</td>\n",
              "      <td>Angola</td>\n",
              "      <td>Namibia</td>\n",
              "      <td>0</td>\n",
              "      <td>0</td>\n",
              "      <td>Friendly</td>\n",
              "      <td>12</td>\n",
              "      <td>2011</td>\n",
              "    </tr>\n",
              "    <tr>\n",
              "      <th>12046</th>\n",
              "      <td>151</td>\n",
              "      <td>Curaçao</td>\n",
              "      <td>2011-12-21</td>\n",
              "      <td>125</td>\n",
              "      <td>2011-12-21</td>\n",
              "      <td>Suriname</td>\n",
              "      <td>Curaçao</td>\n",
              "      <td>2</td>\n",
              "      <td>0</td>\n",
              "      <td>ABCS Tournament</td>\n",
              "      <td>12</td>\n",
              "      <td>2011</td>\n",
              "    </tr>\n",
              "  </tbody>\n",
              "</table>\n",
              "<p>12009 rows × 12 columns</p>\n",
              "</div>"
            ],
            "text/plain": [
              "       awayteam_rank      country  ... month  year\n",
              "0                  3  Switzerland  ...     8  1993\n",
              "1                  5    Argentina  ...     8  1993\n",
              "2                  5    Argentina  ...     8  1993\n",
              "3                  5    Argentina  ...     8  1993\n",
              "4                  8       Brazil  ...     8  1993\n",
              "...              ...          ...  ...   ...   ...\n",
              "12039            113        Sudan  ...    12  2011\n",
              "12040            113        Sudan  ...    12  2011\n",
              "12041            113        Sudan  ...    12  2011\n",
              "12045            121      Namibia  ...    12  2011\n",
              "12046            151      Curaçao  ...    12  2011\n",
              "\n",
              "[12009 rows x 12 columns]"
            ]
          },
          "metadata": {
            "tags": []
          },
          "execution_count": 32
        }
      ]
    },
    {
      "cell_type": "code",
      "metadata": {
        "colab": {
          "base_uri": "https://localhost:8080/",
          "height": 600
        },
        "id": "25uvV-D6aD9i",
        "outputId": "5d901457-a7c6-47e0-b472-929136d15ee6"
      },
      "source": [
        "# checking for outliers\n",
        "\n",
        "\n",
        "Scores = ['home_score','away_score']\n",
        "\n",
        "fig, ax = plt.subplots(len(Scores), figsize=(8,7))\n",
        "fig.suptitle('Boxplots')\n",
        "\n",
        "for i,col_val in enumerate(Scores):\n",
        "    sns.boxplot(final_df[col_val],ax=ax[i])\n",
        "\n",
        "plt.show"
      ],
      "execution_count": 34,
      "outputs": [
        {
          "output_type": "stream",
          "text": [
            "/usr/local/lib/python3.7/dist-packages/seaborn/_decorators.py:43: FutureWarning: Pass the following variable as a keyword arg: x. From version 0.12, the only valid positional argument will be `data`, and passing other arguments without an explicit keyword will result in an error or misinterpretation.\n",
            "  FutureWarning\n",
            "/usr/local/lib/python3.7/dist-packages/seaborn/_decorators.py:43: FutureWarning: Pass the following variable as a keyword arg: x. From version 0.12, the only valid positional argument will be `data`, and passing other arguments without an explicit keyword will result in an error or misinterpretation.\n",
            "  FutureWarning\n"
          ],
          "name": "stderr"
        },
        {
          "output_type": "execute_result",
          "data": {
            "text/plain": [
              "<function matplotlib.pyplot.show>"
            ]
          },
          "metadata": {
            "tags": []
          },
          "execution_count": 34
        },
        {
          "output_type": "display_data",
          "data": {
            "image/png": "[encoded data removed]",
            "text/plain": [
              "<Figure size 576x504 with 2 Axes>"
            ]
          },
          "metadata": {
            "tags": [],
            "needs_background": "light"
          }
        }
      ]
    },
    {
      "cell_type": "code",
      "metadata": {
        "id": "x4ZTwryLb9Gd"
      },
      "source": [
        "# encoding the tournament column\n"
      ],
      "execution_count": null,
      "outputs": []
    },
    {
      "cell_type": "code",
      "metadata": {
        "id": "FG3GhjpkbJ69",
        "colab": {
          "base_uri": "https://localhost:8080/"
        },
        "outputId": "5b722cb4-17b2-47cb-974c-c0bdf21c9ecd"
      },
      "source": [
        "## Converting the tournament columns to: World cup, Friendly and others\n",
        "def tournament(games):\n",
        "    if (games == 'FIFA World Cup qualification') or (games == 'FIFA World Cup'):\n",
        "        return 'World_Cup'\n",
        "    if games == 'Friendly':\n",
        "        return 'Friendly'\n",
        "    else:\n",
        "        return 'Other Matches'\n",
        "\n",
        "\n",
        "final_df['tournament_type'] = final_df['tournament'].apply(lambda w: tournament(w))\n",
        "final_df['tournament_type'].unique()"
      ],
      "execution_count": 36,
      "outputs": [
        {
          "output_type": "execute_result",
          "data": {
            "text/plain": [
              "array(['Friendly', 'World_Cup', 'Other Matches'], dtype=object)"
            ]
          },
          "metadata": {
            "tags": []
          },
          "execution_count": 36
        }
      ]
    },
    {
      "cell_type": "code",
      "metadata": {
        "colab": {
          "base_uri": "https://localhost:8080/",
          "height": 416
        },
        "id": "4AHgWsoNdGrP",
        "outputId": "92f49b0b-2727-430f-8099-7bc83724b357"
      },
      "source": [
        "#dropping the tournament column\n",
        "final_df.drop(['tournament'], axis = 1, inplace=True)\n",
        "final_df"
      ],
      "execution_count": 38,
      "outputs": [
        {
          "output_type": "execute_result",
          "data": {
            "text/html": [
              "<div>\n",
              "<style scoped>\n",
              "    .dataframe tbody tr th:only-of-type {\n",
              "        vertical-align: middle;\n",
              "    }\n",
              "\n",
              "    .dataframe tbody tr th {\n",
              "        vertical-align: top;\n",
              "    }\n",
              "\n",
              "    .dataframe thead th {\n",
              "        text-align: right;\n",
              "    }\n",
              "</style>\n",
              "<table border=\"1\" class=\"dataframe\">\n",
              "  <thead>\n",
              "    <tr style=\"text-align: right;\">\n",
              "      <th></th>\n",
              "      <th>awayteam_rank</th>\n",
              "      <th>country</th>\n",
              "      <th>rank_date_x</th>\n",
              "      <th>hometeam_rank</th>\n",
              "      <th>rank_date_y</th>\n",
              "      <th>home_team</th>\n",
              "      <th>away_team</th>\n",
              "      <th>home_score</th>\n",
              "      <th>away_score</th>\n",
              "      <th>month</th>\n",
              "      <th>year</th>\n",
              "      <th>tournament_type</th>\n",
              "    </tr>\n",
              "  </thead>\n",
              "  <tbody>\n",
              "    <tr>\n",
              "      <th>0</th>\n",
              "      <td>3</td>\n",
              "      <td>Switzerland</td>\n",
              "      <td>1993-08-08</td>\n",
              "      <td>4</td>\n",
              "      <td>1993-08-08</td>\n",
              "      <td>Sweden</td>\n",
              "      <td>Switzerland</td>\n",
              "      <td>1</td>\n",
              "      <td>2</td>\n",
              "      <td>8</td>\n",
              "      <td>1993</td>\n",
              "      <td>Friendly</td>\n",
              "    </tr>\n",
              "    <tr>\n",
              "      <th>1</th>\n",
              "      <td>5</td>\n",
              "      <td>Argentina</td>\n",
              "      <td>1993-08-08</td>\n",
              "      <td>19</td>\n",
              "      <td>1993-08-08</td>\n",
              "      <td>Colombia</td>\n",
              "      <td>Argentina</td>\n",
              "      <td>2</td>\n",
              "      <td>1</td>\n",
              "      <td>8</td>\n",
              "      <td>1993</td>\n",
              "      <td>World_Cup</td>\n",
              "    </tr>\n",
              "    <tr>\n",
              "      <th>2</th>\n",
              "      <td>5</td>\n",
              "      <td>Argentina</td>\n",
              "      <td>1993-08-08</td>\n",
              "      <td>67</td>\n",
              "      <td>1993-08-08</td>\n",
              "      <td>Paraguay</td>\n",
              "      <td>Argentina</td>\n",
              "      <td>1</td>\n",
              "      <td>3</td>\n",
              "      <td>8</td>\n",
              "      <td>1993</td>\n",
              "      <td>World_Cup</td>\n",
              "    </tr>\n",
              "    <tr>\n",
              "      <th>3</th>\n",
              "      <td>5</td>\n",
              "      <td>Argentina</td>\n",
              "      <td>1993-08-08</td>\n",
              "      <td>70</td>\n",
              "      <td>1993-08-08</td>\n",
              "      <td>Peru</td>\n",
              "      <td>Argentina</td>\n",
              "      <td>0</td>\n",
              "      <td>1</td>\n",
              "      <td>8</td>\n",
              "      <td>1993</td>\n",
              "      <td>World_Cup</td>\n",
              "    </tr>\n",
              "    <tr>\n",
              "      <th>4</th>\n",
              "      <td>8</td>\n",
              "      <td>Brazil</td>\n",
              "      <td>1993-08-08</td>\n",
              "      <td>22</td>\n",
              "      <td>1993-08-08</td>\n",
              "      <td>Uruguay</td>\n",
              "      <td>Brazil</td>\n",
              "      <td>1</td>\n",
              "      <td>1</td>\n",
              "      <td>8</td>\n",
              "      <td>1993</td>\n",
              "      <td>World_Cup</td>\n",
              "    </tr>\n",
              "    <tr>\n",
              "      <th>...</th>\n",
              "      <td>...</td>\n",
              "      <td>...</td>\n",
              "      <td>...</td>\n",
              "      <td>...</td>\n",
              "      <td>...</td>\n",
              "      <td>...</td>\n",
              "      <td>...</td>\n",
              "      <td>...</td>\n",
              "      <td>...</td>\n",
              "      <td>...</td>\n",
              "      <td>...</td>\n",
              "      <td>...</td>\n",
              "    </tr>\n",
              "    <tr>\n",
              "      <th>12042</th>\n",
              "      <td>113</td>\n",
              "      <td>Sudan</td>\n",
              "      <td>2011-12-21</td>\n",
              "      <td>120</td>\n",
              "      <td>2011-12-21</td>\n",
              "      <td>Kenya</td>\n",
              "      <td>Sudan</td>\n",
              "      <td>0</td>\n",
              "      <td>1</td>\n",
              "      <td>12</td>\n",
              "      <td>2011</td>\n",
              "      <td>Other Matches</td>\n",
              "    </tr>\n",
              "    <tr>\n",
              "      <th>12043</th>\n",
              "      <td>113</td>\n",
              "      <td>Sudan</td>\n",
              "      <td>2011-12-21</td>\n",
              "      <td>137</td>\n",
              "      <td>2011-12-21</td>\n",
              "      <td>Tanzania</td>\n",
              "      <td>Sudan</td>\n",
              "      <td>0</td>\n",
              "      <td>1</td>\n",
              "      <td>12</td>\n",
              "      <td>2011</td>\n",
              "      <td>Other Matches</td>\n",
              "    </tr>\n",
              "    <tr>\n",
              "      <th>12044</th>\n",
              "      <td>113</td>\n",
              "      <td>Sudan</td>\n",
              "      <td>2011-12-21</td>\n",
              "      <td>140</td>\n",
              "      <td>2011-12-21</td>\n",
              "      <td>Burundi</td>\n",
              "      <td>Sudan</td>\n",
              "      <td>0</td>\n",
              "      <td>2</td>\n",
              "      <td>12</td>\n",
              "      <td>2011</td>\n",
              "      <td>Other Matches</td>\n",
              "    </tr>\n",
              "    <tr>\n",
              "      <th>12045</th>\n",
              "      <td>121</td>\n",
              "      <td>Namibia</td>\n",
              "      <td>2011-12-21</td>\n",
              "      <td>83</td>\n",
              "      <td>2011-12-21</td>\n",
              "      <td>Angola</td>\n",
              "      <td>Namibia</td>\n",
              "      <td>0</td>\n",
              "      <td>0</td>\n",
              "      <td>12</td>\n",
              "      <td>2011</td>\n",
              "      <td>Friendly</td>\n",
              "    </tr>\n",
              "    <tr>\n",
              "      <th>12046</th>\n",
              "      <td>151</td>\n",
              "      <td>Curaçao</td>\n",
              "      <td>2011-12-21</td>\n",
              "      <td>125</td>\n",
              "      <td>2011-12-21</td>\n",
              "      <td>Suriname</td>\n",
              "      <td>Curaçao</td>\n",
              "      <td>2</td>\n",
              "      <td>0</td>\n",
              "      <td>12</td>\n",
              "      <td>2011</td>\n",
              "      <td>Other Matches</td>\n",
              "    </tr>\n",
              "  </tbody>\n",
              "</table>\n",
              "<p>12047 rows × 12 columns</p>\n",
              "</div>"
            ],
            "text/plain": [
              "       awayteam_rank      country rank_date_x  ...  month  year tournament_type\n",
              "0                  3  Switzerland  1993-08-08  ...      8  1993        Friendly\n",
              "1                  5    Argentina  1993-08-08  ...      8  1993       World_Cup\n",
              "2                  5    Argentina  1993-08-08  ...      8  1993       World_Cup\n",
              "3                  5    Argentina  1993-08-08  ...      8  1993       World_Cup\n",
              "4                  8       Brazil  1993-08-08  ...      8  1993       World_Cup\n",
              "...              ...          ...         ...  ...    ...   ...             ...\n",
              "12042            113        Sudan  2011-12-21  ...     12  2011   Other Matches\n",
              "12043            113        Sudan  2011-12-21  ...     12  2011   Other Matches\n",
              "12044            113        Sudan  2011-12-21  ...     12  2011   Other Matches\n",
              "12045            121      Namibia  2011-12-21  ...     12  2011        Friendly\n",
              "12046            151      Curaçao  2011-12-21  ...     12  2011   Other Matches\n",
              "\n",
              "[12047 rows x 12 columns]"
            ]
          },
          "metadata": {
            "tags": []
          },
          "execution_count": 38
        }
      ]
    },
    {
      "cell_type": "markdown",
      "metadata": {
        "id": "ZIFkmzBVdt5z"
      },
      "source": [
        "**6.Explaratory Data analysis**"
      ]
    },
    {
      "cell_type": "markdown",
      "metadata": {
        "id": "rwrZjIKKd2U5"
      },
      "source": [
        "**a) Univariate Analysis**"
      ]
    },
    {
      "cell_type": "code",
      "metadata": {
        "colab": {
          "base_uri": "https://localhost:8080/",
          "height": 357
        },
        "id": "n3KIkGPtd1_T",
        "outputId": "4eeefab2-cf21-4f02-c5ce-d41006dd8635"
      },
      "source": [
        "# bar graph on the tournament types played\n",
        "sns.countplot('tournament_type',data = final_df)\n",
        "plt.xlabel(\"Tournament type\",fontsize=15)\n",
        "plt.ylabel(\"Count\",fontsize=15)\n",
        "plt.title(\"Bar graph on the tournament types\",fontsize=15,color='orange')\n",
        "plt.show()\n",
        "\n",
        "# the most played games from our dataset were the friendly matches and the other matches"
      ],
      "execution_count": 39,
      "outputs": [
        {
          "output_type": "stream",
          "text": [
            "/usr/local/lib/python3.7/dist-packages/seaborn/_decorators.py:43: FutureWarning: Pass the following variable as a keyword arg: x. From version 0.12, the only valid positional argument will be `data`, and passing other arguments without an explicit keyword will result in an error or misinterpretation.\n",
            "  FutureWarning\n"
          ],
          "name": "stderr"
        },
        {
          "output_type": "display_data",
          "data": {
            "image/png": "[encoded data removed]",
            "text/plain": [
              "<Figure size 432x288 with 1 Axes>"
            ]
          },
          "metadata": {
            "tags": [],
            "needs_background": "light"
          }
        }
      ]
    },
    {
      "cell_type": "code",
      "metadata": {
        "colab": {
          "base_uri": "https://localhost:8080/",
          "height": 441
        },
        "id": "eVtywvnAdr0m",
        "outputId": "374ff51a-0aaa-4eff-fcf1-95653909cb14"
      },
      "source": [
        "#Checking the top 5  years with most games played and ranked\n",
        "#\n",
        "#Bar plot on year\n",
        "\n",
        "final_df['year'].value_counts().head(5).plot.bar(figsize=(8,6))\n",
        "\n",
        "plt.title('Freq dist of games played per year',size=18)\n",
        "plt.xlabel('year',size=18)\n",
        "plt.xticks(fontsize=14,rotation=45)\n",
        "plt.ylabel('Frequency',size=18)\n",
        "plt.show()"
      ],
      "execution_count": 40,
      "outputs": [
        {
          "output_type": "display_data",
          "data": {
            "image/png": "[encoded data removed]",
            "text/plain": [
              "<Figure size 576x432 with 1 Axes>"
            ]
          },
          "metadata": {
            "tags": [],
            "needs_background": "light"
          }
        }
      ]
    },
    {
      "cell_type": "code",
      "metadata": {
        "colab": {
          "base_uri": "https://localhost:8080/",
          "height": 294
        },
        "id": "aNrYiueFh1qG",
        "outputId": "d941c3c7-d0c9-4a27-9a08-1f7cae2d968d"
      },
      "source": [
        "\n",
        "# Histogram on home team scores\n",
        "\n",
        "\n",
        "\n",
        "goals = final_df['home_score']\n",
        "\n",
        "plt.hist(goals, histtype='bar', rwidth=0.5)\n",
        "plt.xlabel('Goals')\n",
        "plt.ylabel('Frequency')\n",
        "plt.title('Histogram of Home Goals')\n",
        "plt.show()\n"
      ],
      "execution_count": 47,
      "outputs": [
        {
          "output_type": "display_data",
          "data": {
            "image/png": "[encoded data removed]",
            "text/plain": [
              "<Figure size 432x288 with 1 Axes>"
            ]
          },
          "metadata": {
            "tags": [],
            "needs_background": "light"
          }
        }
      ]
    },
    {
      "cell_type": "code",
      "metadata": {
        "colab": {
          "base_uri": "https://localhost:8080/",
          "height": 294
        },
        "id": "HeqOLEpsimk7",
        "outputId": "5aa740f8-6bb5-4053-c823-f792d512c623"
      },
      "source": [
        "\n",
        "# Histogram on away scores\n",
        "\n",
        "\n",
        "\n",
        "goals = final_df['away_score']\n",
        "\n",
        "plt.hist(goals, histtype='bar', rwidth=0.5)\n",
        "plt.xlabel('Goals')\n",
        "plt.ylabel('Frequency')\n",
        "plt.title('Histogram of away Goals')\n",
        "plt.show()"
      ],
      "execution_count": 46,
      "outputs": [
        {
          "output_type": "display_data",
          "data": {
            "image/png": "[encoded data removed]",
            "text/plain": [
              "<Figure size 432x288 with 1 Axes>"
            ]
          },
          "metadata": {
            "tags": [],
            "needs_background": "light"
          }
        }
      ]
    },
    {
      "cell_type": "code",
      "metadata": {
        "colab": {
          "base_uri": "https://localhost:8080/",
          "height": 612
        },
        "id": "lEdgFXGdkvYI",
        "outputId": "8e622cc5-b5e3-4e98-9b40-7f20c25f9f07"
      },
      "source": [
        "plt.figure(figsize =(10,9))\n",
        "sns.heatmap(final_df.corr(), cmap= \"PuBu\", annot = True)\n",
        "plt.show()"
      ],
      "execution_count": 48,
      "outputs": [
        {
          "output_type": "display_data",
          "data": {
            "image/png": "[encoded data removed]",
            "text/plain": [
              "<Figure size 720x648 with 2 Axes>"
            ]
          },
          "metadata": {
            "tags": [],
            "needs_background": "light"
          }
        }
      ]
    },
    {
      "cell_type": "markdown",
      "metadata": {
        "id": "dSLueYeslYrc"
      },
      "source": [
        "**checking for multi collinearity**"
      ]
    },
    {
      "cell_type": "code",
      "metadata": {
        "colab": {
          "base_uri": "https://localhost:8080/",
          "height": 172
        },
        "id": "1qE2MSm3ldZQ",
        "outputId": "0523ce77-ba40-4fad-ff71-cec58180adfb"
      },
      "source": [
        "# Remove the serial and admit chance columns, we want to focus on our independent variables only.\n",
        "\n",
        "independent_only = final_df.drop(columns=['home_team', 'away_team','tournament_type', 'country', 'month', 'year'])\n",
        "\n",
        "# Let's display the correlations between the variables\n",
        "correlations = independent_only.corr()\n",
        "\n",
        "correlations"
      ],
      "execution_count": 50,
      "outputs": [
        {
          "output_type": "execute_result",
          "data": {
            "text/html": [
              "<div>\n",
              "<style scoped>\n",
              "    .dataframe tbody tr th:only-of-type {\n",
              "        vertical-align: middle;\n",
              "    }\n",
              "\n",
              "    .dataframe tbody tr th {\n",
              "        vertical-align: top;\n",
              "    }\n",
              "\n",
              "    .dataframe thead th {\n",
              "        text-align: right;\n",
              "    }\n",
              "</style>\n",
              "<table border=\"1\" class=\"dataframe\">\n",
              "  <thead>\n",
              "    <tr style=\"text-align: right;\">\n",
              "      <th></th>\n",
              "      <th>awayteam_rank</th>\n",
              "      <th>hometeam_rank</th>\n",
              "      <th>home_score</th>\n",
              "      <th>away_score</th>\n",
              "    </tr>\n",
              "  </thead>\n",
              "  <tbody>\n",
              "    <tr>\n",
              "      <th>awayteam_rank</th>\n",
              "      <td>1.000000</td>\n",
              "      <td>0.445099</td>\n",
              "      <td>0.342477</td>\n",
              "      <td>-0.166099</td>\n",
              "    </tr>\n",
              "    <tr>\n",
              "      <th>hometeam_rank</th>\n",
              "      <td>0.445099</td>\n",
              "      <td>1.000000</td>\n",
              "      <td>-0.129623</td>\n",
              "      <td>0.239808</td>\n",
              "    </tr>\n",
              "    <tr>\n",
              "      <th>home_score</th>\n",
              "      <td>0.342477</td>\n",
              "      <td>-0.129623</td>\n",
              "      <td>1.000000</td>\n",
              "      <td>-0.166343</td>\n",
              "    </tr>\n",
              "    <tr>\n",
              "      <th>away_score</th>\n",
              "      <td>-0.166099</td>\n",
              "      <td>0.239808</td>\n",
              "      <td>-0.166343</td>\n",
              "      <td>1.000000</td>\n",
              "    </tr>\n",
              "  </tbody>\n",
              "</table>\n",
              "</div>"
            ],
            "text/plain": [
              "               awayteam_rank  hometeam_rank  home_score  away_score\n",
              "awayteam_rank       1.000000       0.445099    0.342477   -0.166099\n",
              "hometeam_rank       0.445099       1.000000   -0.129623    0.239808\n",
              "home_score          0.342477      -0.129623    1.000000   -0.166343\n",
              "away_score         -0.166099       0.239808   -0.166343    1.000000"
            ]
          },
          "metadata": {
            "tags": []
          },
          "execution_count": 50
        }
      ]
    },
    {
      "cell_type": "markdown",
      "metadata": {
        "id": "lpgoWXCEl8k0"
      },
      "source": [
        ""
      ]
    },
    {
      "cell_type": "markdown",
      "metadata": {
        "id": "2kKtgi0LSApS"
      },
      "source": [
        "Let's use these correlations to compute the VIF score for each variable. This will require a little bit of linear algebra, but the approach is straightforward: we create a new dataframe with the inverse of the matrix above."
      ]
    },
    {
      "cell_type": "code",
      "metadata": {
        "colab": {
          "base_uri": "https://localhost:8080/",
          "height": 172
        },
        "id": "Nxq5Ud4KQ-TR",
        "outputId": "a555ffdc-f393-42f3-c632-d3cb5c9d89b3"
      },
      "source": [
        "pd.DataFrame(np.linalg.inv(correlations.values), index = correlations.index, columns=correlations.columns)\n",
        "\n",
        "#Interpreting the table is straightforward: The VIF score for each variable is found alongside the downwards sloping diagonal.\n",
        "# awayteam rank  has a score of 1.70, hometeam rank has a score of 1.58, home score has a score of 1.27, etc.\n"
      ],
      "execution_count": 51,
      "outputs": [
        {
          "output_type": "execute_result",
          "data": {
            "text/html": [
              "<div>\n",
              "<style scoped>\n",
              "    .dataframe tbody tr th:only-of-type {\n",
              "        vertical-align: middle;\n",
              "    }\n",
              "\n",
              "    .dataframe tbody tr th {\n",
              "        vertical-align: top;\n",
              "    }\n",
              "\n",
              "    .dataframe thead th {\n",
              "        text-align: right;\n",
              "    }\n",
              "</style>\n",
              "<table border=\"1\" class=\"dataframe\">\n",
              "  <thead>\n",
              "    <tr style=\"text-align: right;\">\n",
              "      <th></th>\n",
              "      <th>awayteam_rank</th>\n",
              "      <th>hometeam_rank</th>\n",
              "      <th>home_score</th>\n",
              "      <th>away_score</th>\n",
              "    </tr>\n",
              "  </thead>\n",
              "  <tbody>\n",
              "    <tr>\n",
              "      <th>awayteam_rank</th>\n",
              "      <td>1.701623</td>\n",
              "      <td>-0.936203</td>\n",
              "      <td>-0.637398</td>\n",
              "      <td>0.401120</td>\n",
              "    </tr>\n",
              "    <tr>\n",
              "      <th>hometeam_rank</th>\n",
              "      <td>-0.936203</td>\n",
              "      <td>1.585505</td>\n",
              "      <td>0.449471</td>\n",
              "      <td>-0.460952</td>\n",
              "    </tr>\n",
              "    <tr>\n",
              "      <th>home_score</th>\n",
              "      <td>-0.637398</td>\n",
              "      <td>0.449471</td>\n",
              "      <td>1.276332</td>\n",
              "      <td>-0.001349</td>\n",
              "    </tr>\n",
              "    <tr>\n",
              "      <th>away_score</th>\n",
              "      <td>0.401120</td>\n",
              "      <td>-0.460952</td>\n",
              "      <td>-0.001349</td>\n",
              "      <td>1.176941</td>\n",
              "    </tr>\n",
              "  </tbody>\n",
              "</table>\n",
              "</div>"
            ],
            "text/plain": [
              "               awayteam_rank  hometeam_rank  home_score  away_score\n",
              "awayteam_rank       1.701623      -0.936203   -0.637398    0.401120\n",
              "hometeam_rank      -0.936203       1.585505    0.449471   -0.460952\n",
              "home_score         -0.637398       0.449471    1.276332   -0.001349\n",
              "away_score          0.401120      -0.460952   -0.001349    1.176941"
            ]
          },
          "metadata": {
            "tags": []
          },
          "execution_count": 51
        }
      ]
    },
    {
      "cell_type": "markdown",
      "metadata": {
        "id": "2R4jyQEOVWer"
      },
      "source": [
        "**Polynomial Regression Approach**"
      ]
    },
    {
      "cell_type": "code",
      "metadata": {
        "colab": {
          "base_uri": "https://localhost:8080/",
          "height": 416
        },
        "id": "zTNFncBwm0gu",
        "outputId": "b3af956f-6a0f-4cab-d628-a380d6138965"
      },
      "source": [
        "final_df.drop(['month', 'year'], axis = 1, inplace=True)\n",
        "final_df"
      ],
      "execution_count": 52,
      "outputs": [
        {
          "output_type": "execute_result",
          "data": {
            "text/html": [
              "<div>\n",
              "<style scoped>\n",
              "    .dataframe tbody tr th:only-of-type {\n",
              "        vertical-align: middle;\n",
              "    }\n",
              "\n",
              "    .dataframe tbody tr th {\n",
              "        vertical-align: top;\n",
              "    }\n",
              "\n",
              "    .dataframe thead th {\n",
              "        text-align: right;\n",
              "    }\n",
              "</style>\n",
              "<table border=\"1\" class=\"dataframe\">\n",
              "  <thead>\n",
              "    <tr style=\"text-align: right;\">\n",
              "      <th></th>\n",
              "      <th>awayteam_rank</th>\n",
              "      <th>country</th>\n",
              "      <th>rank_date_x</th>\n",
              "      <th>hometeam_rank</th>\n",
              "      <th>rank_date_y</th>\n",
              "      <th>home_team</th>\n",
              "      <th>away_team</th>\n",
              "      <th>home_score</th>\n",
              "      <th>away_score</th>\n",
              "      <th>tournament_type</th>\n",
              "    </tr>\n",
              "  </thead>\n",
              "  <tbody>\n",
              "    <tr>\n",
              "      <th>0</th>\n",
              "      <td>3</td>\n",
              "      <td>Switzerland</td>\n",
              "      <td>1993-08-08</td>\n",
              "      <td>4</td>\n",
              "      <td>1993-08-08</td>\n",
              "      <td>Sweden</td>\n",
              "      <td>Switzerland</td>\n",
              "      <td>1</td>\n",
              "      <td>2</td>\n",
              "      <td>Friendly</td>\n",
              "    </tr>\n",
              "    <tr>\n",
              "      <th>1</th>\n",
              "      <td>5</td>\n",
              "      <td>Argentina</td>\n",
              "      <td>1993-08-08</td>\n",
              "      <td>19</td>\n",
              "      <td>1993-08-08</td>\n",
              "      <td>Colombia</td>\n",
              "      <td>Argentina</td>\n",
              "      <td>2</td>\n",
              "      <td>1</td>\n",
              "      <td>World_Cup</td>\n",
              "    </tr>\n",
              "    <tr>\n",
              "      <th>2</th>\n",
              "      <td>5</td>\n",
              "      <td>Argentina</td>\n",
              "      <td>1993-08-08</td>\n",
              "      <td>67</td>\n",
              "      <td>1993-08-08</td>\n",
              "      <td>Paraguay</td>\n",
              "      <td>Argentina</td>\n",
              "      <td>1</td>\n",
              "      <td>3</td>\n",
              "      <td>World_Cup</td>\n",
              "    </tr>\n",
              "    <tr>\n",
              "      <th>3</th>\n",
              "      <td>5</td>\n",
              "      <td>Argentina</td>\n",
              "      <td>1993-08-08</td>\n",
              "      <td>70</td>\n",
              "      <td>1993-08-08</td>\n",
              "      <td>Peru</td>\n",
              "      <td>Argentina</td>\n",
              "      <td>0</td>\n",
              "      <td>1</td>\n",
              "      <td>World_Cup</td>\n",
              "    </tr>\n",
              "    <tr>\n",
              "      <th>4</th>\n",
              "      <td>8</td>\n",
              "      <td>Brazil</td>\n",
              "      <td>1993-08-08</td>\n",
              "      <td>22</td>\n",
              "      <td>1993-08-08</td>\n",
              "      <td>Uruguay</td>\n",
              "      <td>Brazil</td>\n",
              "      <td>1</td>\n",
              "      <td>1</td>\n",
              "      <td>World_Cup</td>\n",
              "    </tr>\n",
              "    <tr>\n",
              "      <th>...</th>\n",
              "      <td>...</td>\n",
              "      <td>...</td>\n",
              "      <td>...</td>\n",
              "      <td>...</td>\n",
              "      <td>...</td>\n",
              "      <td>...</td>\n",
              "      <td>...</td>\n",
              "      <td>...</td>\n",
              "      <td>...</td>\n",
              "      <td>...</td>\n",
              "    </tr>\n",
              "    <tr>\n",
              "      <th>12042</th>\n",
              "      <td>113</td>\n",
              "      <td>Sudan</td>\n",
              "      <td>2011-12-21</td>\n",
              "      <td>120</td>\n",
              "      <td>2011-12-21</td>\n",
              "      <td>Kenya</td>\n",
              "      <td>Sudan</td>\n",
              "      <td>0</td>\n",
              "      <td>1</td>\n",
              "      <td>Other Matches</td>\n",
              "    </tr>\n",
              "    <tr>\n",
              "      <th>12043</th>\n",
              "      <td>113</td>\n",
              "      <td>Sudan</td>\n",
              "      <td>2011-12-21</td>\n",
              "      <td>137</td>\n",
              "      <td>2011-12-21</td>\n",
              "      <td>Tanzania</td>\n",
              "      <td>Sudan</td>\n",
              "      <td>0</td>\n",
              "      <td>1</td>\n",
              "      <td>Other Matches</td>\n",
              "    </tr>\n",
              "    <tr>\n",
              "      <th>12044</th>\n",
              "      <td>113</td>\n",
              "      <td>Sudan</td>\n",
              "      <td>2011-12-21</td>\n",
              "      <td>140</td>\n",
              "      <td>2011-12-21</td>\n",
              "      <td>Burundi</td>\n",
              "      <td>Sudan</td>\n",
              "      <td>0</td>\n",
              "      <td>2</td>\n",
              "      <td>Other Matches</td>\n",
              "    </tr>\n",
              "    <tr>\n",
              "      <th>12045</th>\n",
              "      <td>121</td>\n",
              "      <td>Namibia</td>\n",
              "      <td>2011-12-21</td>\n",
              "      <td>83</td>\n",
              "      <td>2011-12-21</td>\n",
              "      <td>Angola</td>\n",
              "      <td>Namibia</td>\n",
              "      <td>0</td>\n",
              "      <td>0</td>\n",
              "      <td>Friendly</td>\n",
              "    </tr>\n",
              "    <tr>\n",
              "      <th>12046</th>\n",
              "      <td>151</td>\n",
              "      <td>Curaçao</td>\n",
              "      <td>2011-12-21</td>\n",
              "      <td>125</td>\n",
              "      <td>2011-12-21</td>\n",
              "      <td>Suriname</td>\n",
              "      <td>Curaçao</td>\n",
              "      <td>2</td>\n",
              "      <td>0</td>\n",
              "      <td>Other Matches</td>\n",
              "    </tr>\n",
              "  </tbody>\n",
              "</table>\n",
              "<p>12047 rows × 10 columns</p>\n",
              "</div>"
            ],
            "text/plain": [
              "       awayteam_rank      country  ... away_score  tournament_type\n",
              "0                  3  Switzerland  ...          2         Friendly\n",
              "1                  5    Argentina  ...          1        World_Cup\n",
              "2                  5    Argentina  ...          3        World_Cup\n",
              "3                  5    Argentina  ...          1        World_Cup\n",
              "4                  8       Brazil  ...          1        World_Cup\n",
              "...              ...          ...  ...        ...              ...\n",
              "12042            113        Sudan  ...          1    Other Matches\n",
              "12043            113        Sudan  ...          1    Other Matches\n",
              "12044            113        Sudan  ...          2    Other Matches\n",
              "12045            121      Namibia  ...          0         Friendly\n",
              "12046            151      Curaçao  ...          0    Other Matches\n",
              "\n",
              "[12047 rows x 10 columns]"
            ]
          },
          "metadata": {
            "tags": []
          },
          "execution_count": 52
        }
      ]
    },
    {
      "cell_type": "code",
      "metadata": {
        "colab": {
          "base_uri": "https://localhost:8080/",
          "height": 416
        },
        "id": "sFKjDc85ncDr",
        "outputId": "4b8cfd15-f781-4493-c50a-4e56746059d9"
      },
      "source": [
        "final_df.drop(['rank_date_x', 'rank_date_y'], axis = 1, inplace=True)\n",
        "final_df"
      ],
      "execution_count": 53,
      "outputs": [
        {
          "output_type": "execute_result",
          "data": {
            "text/html": [
              "<div>\n",
              "<style scoped>\n",
              "    .dataframe tbody tr th:only-of-type {\n",
              "        vertical-align: middle;\n",
              "    }\n",
              "\n",
              "    .dataframe tbody tr th {\n",
              "        vertical-align: top;\n",
              "    }\n",
              "\n",
              "    .dataframe thead th {\n",
              "        text-align: right;\n",
              "    }\n",
              "</style>\n",
              "<table border=\"1\" class=\"dataframe\">\n",
              "  <thead>\n",
              "    <tr style=\"text-align: right;\">\n",
              "      <th></th>\n",
              "      <th>awayteam_rank</th>\n",
              "      <th>country</th>\n",
              "      <th>hometeam_rank</th>\n",
              "      <th>home_team</th>\n",
              "      <th>away_team</th>\n",
              "      <th>home_score</th>\n",
              "      <th>away_score</th>\n",
              "      <th>tournament_type</th>\n",
              "    </tr>\n",
              "  </thead>\n",
              "  <tbody>\n",
              "    <tr>\n",
              "      <th>0</th>\n",
              "      <td>3</td>\n",
              "      <td>Switzerland</td>\n",
              "      <td>4</td>\n",
              "      <td>Sweden</td>\n",
              "      <td>Switzerland</td>\n",
              "      <td>1</td>\n",
              "      <td>2</td>\n",
              "      <td>Friendly</td>\n",
              "    </tr>\n",
              "    <tr>\n",
              "      <th>1</th>\n",
              "      <td>5</td>\n",
              "      <td>Argentina</td>\n",
              "      <td>19</td>\n",
              "      <td>Colombia</td>\n",
              "      <td>Argentina</td>\n",
              "      <td>2</td>\n",
              "      <td>1</td>\n",
              "      <td>World_Cup</td>\n",
              "    </tr>\n",
              "    <tr>\n",
              "      <th>2</th>\n",
              "      <td>5</td>\n",
              "      <td>Argentina</td>\n",
              "      <td>67</td>\n",
              "      <td>Paraguay</td>\n",
              "      <td>Argentina</td>\n",
              "      <td>1</td>\n",
              "      <td>3</td>\n",
              "      <td>World_Cup</td>\n",
              "    </tr>\n",
              "    <tr>\n",
              "      <th>3</th>\n",
              "      <td>5</td>\n",
              "      <td>Argentina</td>\n",
              "      <td>70</td>\n",
              "      <td>Peru</td>\n",
              "      <td>Argentina</td>\n",
              "      <td>0</td>\n",
              "      <td>1</td>\n",
              "      <td>World_Cup</td>\n",
              "    </tr>\n",
              "    <tr>\n",
              "      <th>4</th>\n",
              "      <td>8</td>\n",
              "      <td>Brazil</td>\n",
              "      <td>22</td>\n",
              "      <td>Uruguay</td>\n",
              "      <td>Brazil</td>\n",
              "      <td>1</td>\n",
              "      <td>1</td>\n",
              "      <td>World_Cup</td>\n",
              "    </tr>\n",
              "    <tr>\n",
              "      <th>...</th>\n",
              "      <td>...</td>\n",
              "      <td>...</td>\n",
              "      <td>...</td>\n",
              "      <td>...</td>\n",
              "      <td>...</td>\n",
              "      <td>...</td>\n",
              "      <td>...</td>\n",
              "      <td>...</td>\n",
              "    </tr>\n",
              "    <tr>\n",
              "      <th>12042</th>\n",
              "      <td>113</td>\n",
              "      <td>Sudan</td>\n",
              "      <td>120</td>\n",
              "      <td>Kenya</td>\n",
              "      <td>Sudan</td>\n",
              "      <td>0</td>\n",
              "      <td>1</td>\n",
              "      <td>Other Matches</td>\n",
              "    </tr>\n",
              "    <tr>\n",
              "      <th>12043</th>\n",
              "      <td>113</td>\n",
              "      <td>Sudan</td>\n",
              "      <td>137</td>\n",
              "      <td>Tanzania</td>\n",
              "      <td>Sudan</td>\n",
              "      <td>0</td>\n",
              "      <td>1</td>\n",
              "      <td>Other Matches</td>\n",
              "    </tr>\n",
              "    <tr>\n",
              "      <th>12044</th>\n",
              "      <td>113</td>\n",
              "      <td>Sudan</td>\n",
              "      <td>140</td>\n",
              "      <td>Burundi</td>\n",
              "      <td>Sudan</td>\n",
              "      <td>0</td>\n",
              "      <td>2</td>\n",
              "      <td>Other Matches</td>\n",
              "    </tr>\n",
              "    <tr>\n",
              "      <th>12045</th>\n",
              "      <td>121</td>\n",
              "      <td>Namibia</td>\n",
              "      <td>83</td>\n",
              "      <td>Angola</td>\n",
              "      <td>Namibia</td>\n",
              "      <td>0</td>\n",
              "      <td>0</td>\n",
              "      <td>Friendly</td>\n",
              "    </tr>\n",
              "    <tr>\n",
              "      <th>12046</th>\n",
              "      <td>151</td>\n",
              "      <td>Curaçao</td>\n",
              "      <td>125</td>\n",
              "      <td>Suriname</td>\n",
              "      <td>Curaçao</td>\n",
              "      <td>2</td>\n",
              "      <td>0</td>\n",
              "      <td>Other Matches</td>\n",
              "    </tr>\n",
              "  </tbody>\n",
              "</table>\n",
              "<p>12047 rows × 8 columns</p>\n",
              "</div>"
            ],
            "text/plain": [
              "       awayteam_rank      country  ...  away_score tournament_type\n",
              "0                  3  Switzerland  ...           2        Friendly\n",
              "1                  5    Argentina  ...           1       World_Cup\n",
              "2                  5    Argentina  ...           3       World_Cup\n",
              "3                  5    Argentina  ...           1       World_Cup\n",
              "4                  8       Brazil  ...           1       World_Cup\n",
              "...              ...          ...  ...         ...             ...\n",
              "12042            113        Sudan  ...           1   Other Matches\n",
              "12043            113        Sudan  ...           1   Other Matches\n",
              "12044            113        Sudan  ...           2   Other Matches\n",
              "12045            121      Namibia  ...           0        Friendly\n",
              "12046            151      Curaçao  ...           0   Other Matches\n",
              "\n",
              "[12047 rows x 8 columns]"
            ]
          },
          "metadata": {
            "tags": []
          },
          "execution_count": 53
        }
      ]
    },
    {
      "cell_type": "code",
      "metadata": {
        "colab": {
          "base_uri": "https://localhost:8080/",
          "height": 233
        },
        "id": "SfFF_9L3np-4",
        "outputId": "6830242a-f091-468c-b025-b18412eb2749"
      },
      "source": [
        "poly_reg_dataset =  final_df.groupby(['hometeam_rank']).mean()\n",
        "poly_reg_dataset.head()"
      ],
      "execution_count": 54,
      "outputs": [
        {
          "output_type": "execute_result",
          "data": {
            "text/html": [
              "<div>\n",
              "<style scoped>\n",
              "    .dataframe tbody tr th:only-of-type {\n",
              "        vertical-align: middle;\n",
              "    }\n",
              "\n",
              "    .dataframe tbody tr th {\n",
              "        vertical-align: top;\n",
              "    }\n",
              "\n",
              "    .dataframe thead th {\n",
              "        text-align: right;\n",
              "    }\n",
              "</style>\n",
              "<table border=\"1\" class=\"dataframe\">\n",
              "  <thead>\n",
              "    <tr style=\"text-align: right;\">\n",
              "      <th></th>\n",
              "      <th>awayteam_rank</th>\n",
              "      <th>home_score</th>\n",
              "      <th>away_score</th>\n",
              "    </tr>\n",
              "    <tr>\n",
              "      <th>hometeam_rank</th>\n",
              "      <th></th>\n",
              "      <th></th>\n",
              "      <th></th>\n",
              "    </tr>\n",
              "  </thead>\n",
              "  <tbody>\n",
              "    <tr>\n",
              "      <th>1</th>\n",
              "      <td>36.681416</td>\n",
              "      <td>2.460177</td>\n",
              "      <td>0.584071</td>\n",
              "    </tr>\n",
              "    <tr>\n",
              "      <th>2</th>\n",
              "      <td>44.829060</td>\n",
              "      <td>2.136752</td>\n",
              "      <td>0.572650</td>\n",
              "    </tr>\n",
              "    <tr>\n",
              "      <th>3</th>\n",
              "      <td>41.520408</td>\n",
              "      <td>2.193878</td>\n",
              "      <td>0.806122</td>\n",
              "    </tr>\n",
              "    <tr>\n",
              "      <th>4</th>\n",
              "      <td>43.981651</td>\n",
              "      <td>2.045872</td>\n",
              "      <td>0.715596</td>\n",
              "    </tr>\n",
              "    <tr>\n",
              "      <th>5</th>\n",
              "      <td>40.600000</td>\n",
              "      <td>1.904000</td>\n",
              "      <td>0.640000</td>\n",
              "    </tr>\n",
              "  </tbody>\n",
              "</table>\n",
              "</div>"
            ],
            "text/plain": [
              "               awayteam_rank  home_score  away_score\n",
              "hometeam_rank                                       \n",
              "1                  36.681416    2.460177    0.584071\n",
              "2                  44.829060    2.136752    0.572650\n",
              "3                  41.520408    2.193878    0.806122\n",
              "4                  43.981651    2.045872    0.715596\n",
              "5                  40.600000    1.904000    0.640000"
            ]
          },
          "metadata": {
            "tags": []
          },
          "execution_count": 54
        }
      ]
    },
    {
      "cell_type": "code",
      "metadata": {
        "id": "gGTzseYLjMny"
      },
      "source": [
        "X = poly_reg_dataset.index.values.reshape(-1,1)\n",
        "y = poly_reg_dataset['home_score'].values.reshape(-1,1)"
      ],
      "execution_count": 55,
      "outputs": []
    },
    {
      "cell_type": "code",
      "metadata": {
        "colab": {
          "base_uri": "https://localhost:8080/",
          "height": 294
        },
        "id": "jyUMZ9ban403",
        "outputId": "6daf5d86-a109-4b65-d0bd-d00e1497076b"
      },
      "source": [
        "# plotting the scatter plot for polynomial regression\n",
        "plt.scatter(X, y, color='blue') \n",
        "plt.title('home scores prediction')\n",
        "plt.xlabel('the other variables')\n",
        "plt.ylabel('home scores')\n",
        "plt.show()"
      ],
      "execution_count": 56,
      "outputs": [
        {
          "output_type": "display_data",
          "data": {
            "image/png": "[encoded data removed]",
            "text/plain": [
              "<Figure size 432x288 with 1 Axes>"
            ]
          },
          "metadata": {
            "tags": [],
            "needs_background": "light"
          }
        }
      ]
    },
    {
      "cell_type": "code",
      "metadata": {
        "id": "q69uhCTOoAuG"
      },
      "source": [
        "# Split the dataset into train and test sets\n",
        "from sklearn.model_selection import train_test_split\n",
        "X_train, Y_train, X_test, Y_test = train_test_split(X,y, test_size = 0.2, random_state=0)\n",
        "\n",
        "\n",
        "# Fit Linear Regression model to the dataset(this is optional. We are doing this for the sole purpose of comparing the linear regression model to the polynomial regression model)\n",
        "reg_line = LinearRegression()\n",
        "reg_line.fit(X,y)\n",
        "\n",
        "# Visualize the Linear Regression results\n",
        "plt.scatter(X, y, color='blue') # You can put any color you like. This just helps us highlight the data points\n",
        "plt.plot(X, reg_line.predict(X), color='red')\n",
        "plt.title('Home scores prediction(Linear Regression)')\n",
        "plt.xlabel('other variables')\n",
        "plt.ylabel('home scores')\n",
        "plt.show()\n",
        "\n",
        "\n",
        "# Fit polynomial Regression to the dataset\n",
        "poly_reg = PolynomialFeatures(degree = 3) \n",
        "X_poly = poly_reg.fit_transform(X)\n",
        "\n",
        "\n",
        "pol_reg = LinearRegression()\n",
        "pol_reg.fit(X_poly, y)\n",
        "\n",
        "#Visualize the Polynomial Regression results\n",
        "plt.scatter(X, y, color='blue') # You can put any color you like. This just helps us highlight the data points\n",
        "plt.plot(X, pol_reg.predict(X_poly), color='red')\n",
        "plt.title('home scores prediction(Polynomial Regression)')\n",
        "plt.xlabel('other variables')\n",
        "plt.ylabel('home scores')\n",
        "plt.show()\n",
        "\n",
        "# pol_reg.predict(poly_reg.fit_transform([[5.5]]))"
      ],
      "execution_count": null,
      "outputs": []
    },
    {
      "cell_type": "code",
      "metadata": {
        "colab": {
          "base_uri": "https://localhost:8080/",
          "height": 294
        },
        "id": "NRCvEPlLq2FF",
        "outputId": "a6ae729c-c80c-4d9f-c7e9-585a9746503a"
      },
      "source": [
        "# Fit polynomial Regression to the dataset\n",
        "poly_reg_4 = PolynomialFeatures(degree = 4) \n",
        "X_poly = poly_reg_4.fit_transform(X)\n",
        "\n",
        "\n",
        "pol_reg = LinearRegression()\n",
        "pol_reg.fit(X_poly, y)\n",
        "\n",
        "#Visualize the Polynomial Regression results\n",
        "plt.scatter(X, y, color='blue') # You can put any color you like. This just helps us highlight the data points\n",
        "plt.plot(X, pol_reg.predict(X_poly), color='red')\n",
        "plt.title('Salary Prediction (Polynomial Regression)')\n",
        "plt.xlabel('Position Level')\n",
        "plt.ylabel('Salary')\n",
        "plt.show()"
      ],
      "execution_count": null,
      "outputs": [
        {
          "output_type": "display_data",
          "data": {
            "image/png": "[encoded data removed]",
            "text/plain": [
              "<Figure size 432x288 with 1 Axes>"
            ]
          },
          "metadata": {
            "tags": [],
            "needs_background": "light"
          }
        }
      ]
    },
    {
      "cell_type": "code",
      "metadata": {
        "colab": {
          "base_uri": "https://localhost:8080/"
        },
        "id": "pd80zPrFqouZ",
        "outputId": "bd9db8da-b4df-4eca-c0fa-5ff73a548c32"
      },
      "source": [
        " # Predict using linear regression\n",
        "lin_pred = reg_line.predict([[6.5]])\n",
        "print('Linear prediction: %d' %lin_pred)\n",
        "\n",
        "# Predict using Polynomial Regression\n",
        "poly_pred = pol_reg.predict(poly_reg_4.fit_transform([[6.5]]))\n",
        "print('Polynomial prediction: %d' %poly_pred)\n",
        "\n",
        "# We can also get the predictions as an array\n",
        "poly_arr_pred = pol_reg.predict(poly_reg_4.fit_transform(X))\n"
      ],
      "execution_count": null,
      "outputs": [
        {
          "output_type": "stream",
          "text": [
            "Linear prediction: 1\n",
            "Polynomial prediction: 2\n"
          ],
          "name": "stdout"
        }
      ]
    },
    {
      "cell_type": "code",
      "metadata": {
        "colab": {
          "base_uri": "https://localhost:8080/",
          "height": 233
        },
        "id": "-Y8fKSZqrgvY",
        "outputId": "16329f6f-7db1-4746-8a5d-d261e7885d5e"
      },
      "source": [
        "poly_reg_dataset =  final_df.groupby(['awayteam_rank']).mean()\n",
        "poly_reg_dataset.head()"
      ],
      "execution_count": null,
      "outputs": [
        {
          "output_type": "execute_result",
          "data": {
            "text/html": [
              "<div>\n",
              "<style scoped>\n",
              "    .dataframe tbody tr th:only-of-type {\n",
              "        vertical-align: middle;\n",
              "    }\n",
              "\n",
              "    .dataframe tbody tr th {\n",
              "        vertical-align: top;\n",
              "    }\n",
              "\n",
              "    .dataframe thead th {\n",
              "        text-align: right;\n",
              "    }\n",
              "</style>\n",
              "<table border=\"1\" class=\"dataframe\">\n",
              "  <thead>\n",
              "    <tr style=\"text-align: right;\">\n",
              "      <th></th>\n",
              "      <th>hometeam_rank</th>\n",
              "      <th>home_score</th>\n",
              "      <th>away_score</th>\n",
              "    </tr>\n",
              "    <tr>\n",
              "      <th>awayteam_rank</th>\n",
              "      <th></th>\n",
              "      <th></th>\n",
              "      <th></th>\n",
              "    </tr>\n",
              "  </thead>\n",
              "  <tbody>\n",
              "    <tr>\n",
              "      <th>1</th>\n",
              "      <td>38.534591</td>\n",
              "      <td>0.880503</td>\n",
              "      <td>1.968553</td>\n",
              "    </tr>\n",
              "    <tr>\n",
              "      <th>2</th>\n",
              "      <td>42.816327</td>\n",
              "      <td>0.775510</td>\n",
              "      <td>1.857143</td>\n",
              "    </tr>\n",
              "    <tr>\n",
              "      <th>3</th>\n",
              "      <td>46.290076</td>\n",
              "      <td>0.946565</td>\n",
              "      <td>1.893130</td>\n",
              "    </tr>\n",
              "    <tr>\n",
              "      <th>4</th>\n",
              "      <td>43.014493</td>\n",
              "      <td>0.818841</td>\n",
              "      <td>1.601449</td>\n",
              "    </tr>\n",
              "    <tr>\n",
              "      <th>5</th>\n",
              "      <td>37.322835</td>\n",
              "      <td>1.141732</td>\n",
              "      <td>1.724409</td>\n",
              "    </tr>\n",
              "  </tbody>\n",
              "</table>\n",
              "</div>"
            ],
            "text/plain": [
              "               hometeam_rank  home_score  away_score\n",
              "awayteam_rank                                       \n",
              "1                  38.534591    0.880503    1.968553\n",
              "2                  42.816327    0.775510    1.857143\n",
              "3                  46.290076    0.946565    1.893130\n",
              "4                  43.014493    0.818841    1.601449\n",
              "5                  37.322835    1.141732    1.724409"
            ]
          },
          "metadata": {
            "tags": []
          },
          "execution_count": 117
        }
      ]
    },
    {
      "cell_type": "code",
      "metadata": {
        "id": "vRf4lXamtR9X"
      },
      "source": [
        "X = poly_reg_dataset.index.values.reshape(-1,1)\n",
        "y = poly_reg_dataset['away_score'].values.reshape(-1,1)"
      ],
      "execution_count": null,
      "outputs": []
    },
    {
      "cell_type": "code",
      "metadata": {
        "colab": {
          "base_uri": "https://localhost:8080/",
          "height": 294
        },
        "id": "LQuGz5nxtmak",
        "outputId": "71c821d2-2b04-4316-8177-a289ee50be0e"
      },
      "source": [
        "plt.scatter(X, y, color='blue') \n",
        "plt.title('away scores prediction')\n",
        "plt.xlabel('the other variables')\n",
        "plt.ylabel('away scores')\n",
        "plt.show()"
      ],
      "execution_count": null,
      "outputs": [
        {
          "output_type": "display_data",
          "data": {
            "image/png": "[encoded data removed]",
            "text/plain": [
              "<Figure size 432x288 with 1 Axes>"
            ]
          },
          "metadata": {
            "tags": [],
            "needs_background": "light"
          }
        }
      ]
    },
    {
      "cell_type": "code",
      "metadata": {
        "colab": {
          "base_uri": "https://localhost:8080/",
          "height": 573
        },
        "id": "D7rRFDNruRrZ",
        "outputId": "c21ec1fc-3752-4a66-e5b0-bf3f90159e1e"
      },
      "source": [
        "# Split the dataset into train and test sets\n",
        "X_train, Y_train, X_test, Y_test = train_test_split(X,y, test_size = 0.2, random_state=0)\n",
        "\n",
        "\n",
        "# Fit Linear Regression model to the dataset(this is optional. We are doing this for the sole purpose of comparing the linear regression model to the polynomial regression model)\n",
        "reg_line = LinearRegression()\n",
        "reg_line.fit(X,y)\n",
        "\n",
        "# Visualize the Linear Regression results\n",
        "plt.scatter(X, y, color='blue') # You can put any color you like. This just helps us highlight the data points\n",
        "plt.plot(X, reg_line.predict(X), color='red')\n",
        "plt.title('away scores based on the other variables')\n",
        "plt.xlabel('other variables')\n",
        "plt.ylabel('away scores')\n",
        "plt.show()\n",
        "\n",
        "\n",
        "# Fit polynomial Regression to the dataset\n",
        "poly_reg = PolynomialFeatures(degree = 2) \n",
        "X_poly = poly_reg.fit_transform(X)\n",
        "\n",
        "\n",
        "pol_reg = LinearRegression()\n",
        "pol_reg.fit(X_poly, y)\n",
        "\n",
        "#Visualize the Polynomial Regression results\n",
        "plt.scatter(X, y, color='blue') # You can put any color you like. This just helps us highlight the data points\n",
        "plt.plot(X, pol_reg.predict(X_poly), color='red')\n",
        "plt.title('away scores orediction (Polynomial Regression)')\n",
        "plt.xlabel('other variables')\n",
        "plt.ylabel('Away scores')\n",
        "plt.show()\n",
        "\n",
        "# pol_reg.predict(poly_reg.fit_transform([[5.5]]))"
      ],
      "execution_count": null,
      "outputs": [
        {
          "output_type": "display_data",
          "data": {
            "image/png": "[encoded data removed]",
            "text/plain": [
              "<Figure size 432x288 with 1 Axes>"
            ]
          },
          "metadata": {
            "tags": [],
            "needs_background": "light"
          }
        },
        {
          "output_type": "display_data",
          "data": {
            "image/png": "[encoded data removed]",
            "text/plain": [
              "<Figure size 432x288 with 1 Axes>"
            ]
          },
          "metadata": {
            "tags": [],
            "needs_background": "light"
          }
        }
      ]
    },
    {
      "cell_type": "markdown",
      "metadata": {
        "id": "Q7y1e9x1uxhr"
      },
      "source": [
        "**Optimizing the polynomial regression model**"
      ]
    },
    {
      "cell_type": "code",
      "metadata": {
        "colab": {
          "base_uri": "https://localhost:8080/",
          "height": 294
        },
        "id": "KI-_yWe-u-Ig",
        "outputId": "e6ddb2d0-85d2-40a0-ca86-ba29093b2651"
      },
      "source": [
        " #Fit polynomial Regression to the dataset\n",
        "poly_reg_3 = PolynomialFeatures(degree = 3) \n",
        "X_poly = poly_reg_3.fit_transform(X)\n",
        "\n",
        "\n",
        "pol_reg = LinearRegression()\n",
        "pol_reg.fit(X_poly, y)\n",
        "\n",
        "#Visualize the Polynomial Regression results\n",
        "plt.scatter(X, y, color='blue') # You can put any color you like. This just helps us highlight the data points\n",
        "plt.plot(X, pol_reg.predict(X_poly), color='red')\n",
        "plt.title('Away scores prediction (Polynomial Regression)')\n",
        "plt.xlabel('other variables')\n",
        "plt.ylabel('away scores')\n",
        "plt.show()"
      ],
      "execution_count": null,
      "outputs": [
        {
          "output_type": "display_data",
          "data": {
            "image/png": "[encoded data removed]",
            "text/plain": [
              "<Figure size 432x288 with 1 Axes>"
            ]
          },
          "metadata": {
            "tags": [],
            "needs_background": "light"
          }
        }
      ]
    },
    {
      "cell_type": "code",
      "metadata": {
        "colab": {
          "base_uri": "https://localhost:8080/"
        },
        "id": "5GveHT9WviXM",
        "outputId": "a9b0913b-e3a4-4a81-abde-e43fc6d3a469"
      },
      "source": [
        "# Predict using linear regression\n",
        "lin_pred = reg_line.predict([[6.5]])\n",
        "print('Linear prediction: %d' %lin_pred)\n",
        "\n",
        "# Predict using Polynomial Regression\n",
        "poly_pred = pol_reg.predict(poly_reg_3.fit_transform([[6.5]]))\n",
        "print('Polynomial prediction: %d' %poly_pred)"
      ],
      "execution_count": null,
      "outputs": [
        {
          "output_type": "stream",
          "text": [
            "Linear prediction: 1\n",
            "Polynomial prediction: 1\n"
          ],
          "name": "stdout"
        }
      ]
    },
    {
      "cell_type": "markdown",
      "metadata": {
        "id": "XkKUtgkqv6gw"
      },
      "source": [
        "**Logistic regression approach in predicting the results**"
      ]
    },
    {
      "cell_type": "code",
      "metadata": {
        "colab": {
          "base_uri": "https://localhost:8080/",
          "height": 202
        },
        "id": "ikwDHofbuGOe",
        "outputId": "f4f12222-ff28-4e51-ac7c-cd8e024eda99"
      },
      "source": [
        "# adding a status column\n",
        "#First creating a list of our conditions\n",
        "conditions = [\n",
        "    (final_df['home_score'] > final_df['away_score']),\n",
        "    (final_df['home_score'] < final_df['away_score']),\n",
        "    (final_df['home_score'] == final_df['away_score']),\n",
        "    ]\n",
        "\n",
        "# create a list of the values we want to assign for each condition\n",
        "values = ['Win','Lose','Draw']\n",
        "\n",
        "# create a new column and use np.select to assign values to it using our lists as arguments\n",
        "final_df['Status'] = np.select(conditions, values)\n",
        "\n",
        "\n",
        "#Cross-checking our data to see if status column has been update\n",
        "final_df.head()\n"
      ],
      "execution_count": 62,
      "outputs": [
        {
          "output_type": "execute_result",
          "data": {
            "text/html": [
              "<div>\n",
              "<style scoped>\n",
              "    .dataframe tbody tr th:only-of-type {\n",
              "        vertical-align: middle;\n",
              "    }\n",
              "\n",
              "    .dataframe tbody tr th {\n",
              "        vertical-align: top;\n",
              "    }\n",
              "\n",
              "    .dataframe thead th {\n",
              "        text-align: right;\n",
              "    }\n",
              "</style>\n",
              "<table border=\"1\" class=\"dataframe\">\n",
              "  <thead>\n",
              "    <tr style=\"text-align: right;\">\n",
              "      <th></th>\n",
              "      <th>awayteam_rank</th>\n",
              "      <th>country</th>\n",
              "      <th>hometeam_rank</th>\n",
              "      <th>home_team</th>\n",
              "      <th>away_team</th>\n",
              "      <th>home_score</th>\n",
              "      <th>away_score</th>\n",
              "      <th>tournament_type</th>\n",
              "      <th>Status</th>\n",
              "    </tr>\n",
              "  </thead>\n",
              "  <tbody>\n",
              "    <tr>\n",
              "      <th>0</th>\n",
              "      <td>3</td>\n",
              "      <td>Switzerland</td>\n",
              "      <td>4</td>\n",
              "      <td>Sweden</td>\n",
              "      <td>Switzerland</td>\n",
              "      <td>1</td>\n",
              "      <td>2</td>\n",
              "      <td>Friendly</td>\n",
              "      <td>Lose</td>\n",
              "    </tr>\n",
              "    <tr>\n",
              "      <th>1</th>\n",
              "      <td>5</td>\n",
              "      <td>Argentina</td>\n",
              "      <td>19</td>\n",
              "      <td>Colombia</td>\n",
              "      <td>Argentina</td>\n",
              "      <td>2</td>\n",
              "      <td>1</td>\n",
              "      <td>World_Cup</td>\n",
              "      <td>Win</td>\n",
              "    </tr>\n",
              "    <tr>\n",
              "      <th>2</th>\n",
              "      <td>5</td>\n",
              "      <td>Argentina</td>\n",
              "      <td>67</td>\n",
              "      <td>Paraguay</td>\n",
              "      <td>Argentina</td>\n",
              "      <td>1</td>\n",
              "      <td>3</td>\n",
              "      <td>World_Cup</td>\n",
              "      <td>Lose</td>\n",
              "    </tr>\n",
              "    <tr>\n",
              "      <th>3</th>\n",
              "      <td>5</td>\n",
              "      <td>Argentina</td>\n",
              "      <td>70</td>\n",
              "      <td>Peru</td>\n",
              "      <td>Argentina</td>\n",
              "      <td>0</td>\n",
              "      <td>1</td>\n",
              "      <td>World_Cup</td>\n",
              "      <td>Lose</td>\n",
              "    </tr>\n",
              "    <tr>\n",
              "      <th>4</th>\n",
              "      <td>8</td>\n",
              "      <td>Brazil</td>\n",
              "      <td>22</td>\n",
              "      <td>Uruguay</td>\n",
              "      <td>Brazil</td>\n",
              "      <td>1</td>\n",
              "      <td>1</td>\n",
              "      <td>World_Cup</td>\n",
              "      <td>Draw</td>\n",
              "    </tr>\n",
              "  </tbody>\n",
              "</table>\n",
              "</div>"
            ],
            "text/plain": [
              "   awayteam_rank      country  hometeam_rank  ... away_score tournament_type  Status\n",
              "0              3  Switzerland              4  ...          2        Friendly    Lose\n",
              "1              5    Argentina             19  ...          1       World_Cup     Win\n",
              "2              5    Argentina             67  ...          3       World_Cup    Lose\n",
              "3              5    Argentina             70  ...          1       World_Cup    Lose\n",
              "4              8       Brazil             22  ...          1       World_Cup    Draw\n",
              "\n",
              "[5 rows x 9 columns]"
            ]
          },
          "metadata": {
            "tags": []
          },
          "execution_count": 62
        }
      ]
    },
    {
      "cell_type": "code",
      "metadata": {
        "id": "pgPfSmuoux4A"
      },
      "source": [
        "#Encoding the status column of either a win,lose or draw using label encoding\n",
        "\n",
        "#First importing  labelencoder\n",
        "from sklearn.preprocessing import LabelEncoder\n",
        "\n",
        "# instantiate labelencoder object\n",
        "le = LabelEncoder()"
      ],
      "execution_count": 87,
      "outputs": []
    },
    {
      "cell_type": "code",
      "metadata": {
        "colab": {
          "base_uri": "https://localhost:8080/",
          "height": 202
        },
        "id": "sT9Ovze-u0gJ",
        "outputId": "1b48e8f3-d404-4dd5-f1ea-b52864c9b824"
      },
      "source": [
        "# apply le on categorical feature Status column\n",
        "\n",
        "final_df['match_status']=  le.fit_transform(final_df['Status'])\n",
        "final_df.head()"
      ],
      "execution_count": 88,
      "outputs": [
        {
          "output_type": "execute_result",
          "data": {
            "text/html": [
              "<div>\n",
              "<style scoped>\n",
              "    .dataframe tbody tr th:only-of-type {\n",
              "        vertical-align: middle;\n",
              "    }\n",
              "\n",
              "    .dataframe tbody tr th {\n",
              "        vertical-align: top;\n",
              "    }\n",
              "\n",
              "    .dataframe thead th {\n",
              "        text-align: right;\n",
              "    }\n",
              "</style>\n",
              "<table border=\"1\" class=\"dataframe\">\n",
              "  <thead>\n",
              "    <tr style=\"text-align: right;\">\n",
              "      <th></th>\n",
              "      <th>awayteam_rank</th>\n",
              "      <th>country</th>\n",
              "      <th>hometeam_rank</th>\n",
              "      <th>home_team</th>\n",
              "      <th>away_team</th>\n",
              "      <th>home_score</th>\n",
              "      <th>away_score</th>\n",
              "      <th>tournament_type</th>\n",
              "      <th>Status</th>\n",
              "      <th>match_status</th>\n",
              "      <th>World_Cup</th>\n",
              "    </tr>\n",
              "  </thead>\n",
              "  <tbody>\n",
              "    <tr>\n",
              "      <th>0</th>\n",
              "      <td>3</td>\n",
              "      <td>Switzerland</td>\n",
              "      <td>4</td>\n",
              "      <td>Sweden</td>\n",
              "      <td>Switzerland</td>\n",
              "      <td>1</td>\n",
              "      <td>2</td>\n",
              "      <td>Friendly</td>\n",
              "      <td>Lose</td>\n",
              "      <td>1</td>\n",
              "      <td>0</td>\n",
              "    </tr>\n",
              "    <tr>\n",
              "      <th>1</th>\n",
              "      <td>5</td>\n",
              "      <td>Argentina</td>\n",
              "      <td>19</td>\n",
              "      <td>Colombia</td>\n",
              "      <td>Argentina</td>\n",
              "      <td>2</td>\n",
              "      <td>1</td>\n",
              "      <td>World_Cup</td>\n",
              "      <td>Win</td>\n",
              "      <td>2</td>\n",
              "      <td>1</td>\n",
              "    </tr>\n",
              "    <tr>\n",
              "      <th>2</th>\n",
              "      <td>5</td>\n",
              "      <td>Argentina</td>\n",
              "      <td>67</td>\n",
              "      <td>Paraguay</td>\n",
              "      <td>Argentina</td>\n",
              "      <td>1</td>\n",
              "      <td>3</td>\n",
              "      <td>World_Cup</td>\n",
              "      <td>Lose</td>\n",
              "      <td>1</td>\n",
              "      <td>1</td>\n",
              "    </tr>\n",
              "    <tr>\n",
              "      <th>3</th>\n",
              "      <td>5</td>\n",
              "      <td>Argentina</td>\n",
              "      <td>70</td>\n",
              "      <td>Peru</td>\n",
              "      <td>Argentina</td>\n",
              "      <td>0</td>\n",
              "      <td>1</td>\n",
              "      <td>World_Cup</td>\n",
              "      <td>Lose</td>\n",
              "      <td>1</td>\n",
              "      <td>1</td>\n",
              "    </tr>\n",
              "    <tr>\n",
              "      <th>4</th>\n",
              "      <td>8</td>\n",
              "      <td>Brazil</td>\n",
              "      <td>22</td>\n",
              "      <td>Uruguay</td>\n",
              "      <td>Brazil</td>\n",
              "      <td>1</td>\n",
              "      <td>1</td>\n",
              "      <td>World_Cup</td>\n",
              "      <td>Draw</td>\n",
              "      <td>0</td>\n",
              "      <td>1</td>\n",
              "    </tr>\n",
              "  </tbody>\n",
              "</table>\n",
              "</div>"
            ],
            "text/plain": [
              "   awayteam_rank      country  hometeam_rank  ... Status match_status  World_Cup\n",
              "0              3  Switzerland              4  ...   Lose            1          0\n",
              "1              5    Argentina             19  ...    Win            2          1\n",
              "2              5    Argentina             67  ...   Lose            1          1\n",
              "3              5    Argentina             70  ...   Lose            1          1\n",
              "4              8       Brazil             22  ...   Draw            0          1\n",
              "\n",
              "[5 rows x 11 columns]"
            ]
          },
          "metadata": {
            "tags": []
          },
          "execution_count": 88
        }
      ]
    },
    {
      "cell_type": "code",
      "metadata": {
        "id": "hvyJ4yZUvLEl"
      },
      "source": [
        "final_df.drop(['Status_transform','match status'], axis=1, inplace= True)"
      ],
      "execution_count": 69,
      "outputs": []
    },
    {
      "cell_type": "code",
      "metadata": {
        "id": "b8rw83XTz49z"
      },
      "source": [
        "# Splitting our dataset and performing data preprocessing\n",
        "#\n",
        "X = final_df[['home_score','hometeam_rank','World_Cup']].values\n",
        "y = final_df['match_status'].values\n",
        "\n",
        "from sklearn.model_selection import train_test_split\n",
        "X_train, X_test, y_train, y_test = train_test_split(X, y, test_size = .3, random_state=0)"
      ],
      "execution_count": 93,
      "outputs": []
    },
    {
      "cell_type": "code",
      "metadata": {
        "colab": {
          "base_uri": "https://localhost:8080/"
        },
        "id": "VTSFNcQX0YBy",
        "outputId": "a4f2b31b-b422-43fa-cf6a-663654e7aa09"
      },
      "source": [
        "#Fitting our model\n",
        "# \n",
        "from sklearn.linear_model import LogisticRegression\n",
        "\n",
        "LogReg = LogisticRegression()\n",
        "LogReg.fit(X_train,y_train)"
      ],
      "execution_count": 94,
      "outputs": [
        {
          "output_type": "execute_result",
          "data": {
            "text/plain": [
              "LogisticRegression(C=1.0, class_weight=None, dual=False, fit_intercept=True,\n",
              "                   intercept_scaling=1, l1_ratio=None, max_iter=100,\n",
              "                   multi_class='auto', n_jobs=None, penalty='l2',\n",
              "                   random_state=None, solver='lbfgs', tol=0.0001, verbose=0,\n",
              "                   warm_start=False)"
            ]
          },
          "metadata": {
            "tags": []
          },
          "execution_count": 94
        }
      ]
    },
    {
      "cell_type": "code",
      "metadata": {
        "id": "07N29MAc3egU"
      },
      "source": [
        ""
      ],
      "execution_count": null,
      "outputs": []
    },
    {
      "cell_type": "code",
      "metadata": {
        "colab": {
          "base_uri": "https://localhost:8080/"
        },
        "id": "BoM4BLVN27PT",
        "outputId": "a3d45612-5144-458e-84b5-7cd5008e92c2"
      },
      "source": [
        "\n",
        "# Fitting our model\n",
        "# \n",
        "from sklearn.linear_model import LogisticRegression\n",
        "\n",
        "LogReg = LogisticRegression()\n",
        "LogReg.fit(X_train,y_train)"
      ],
      "execution_count": 95,
      "outputs": [
        {
          "output_type": "execute_result",
          "data": {
            "text/plain": [
              "LogisticRegression(C=1.0, class_weight=None, dual=False, fit_intercept=True,\n",
              "                   intercept_scaling=1, l1_ratio=None, max_iter=100,\n",
              "                   multi_class='auto', n_jobs=None, penalty='l2',\n",
              "                   random_state=None, solver='lbfgs', tol=0.0001, verbose=0,\n",
              "                   warm_start=False)"
            ]
          },
          "metadata": {
            "tags": []
          },
          "execution_count": 95
        }
      ]
    },
    {
      "cell_type": "code",
      "metadata": {
        "colab": {
          "base_uri": "https://localhost:8080/"
        },
        "id": "zPLjWig03gJ5",
        "outputId": "bcfc5c21-4cfe-4184-8262-3d869b38c7f6"
      },
      "source": [
        "#Checking accuracy of the model \n",
        "\n",
        "LogReg.score(X_test, y_test)\n",
        "\n",
        "# our  model is 65% accurate in predicting the results"
      ],
      "execution_count": 97,
      "outputs": [
        {
          "output_type": "execute_result",
          "data": {
            "text/plain": [
              "0.6556016597510373"
            ]
          },
          "metadata": {
            "tags": []
          },
          "execution_count": 97
        }
      ]
    },
    {
      "cell_type": "code",
      "metadata": {
        "colab": {
          "base_uri": "https://localhost:8080/"
        },
        "id": "G2jDYC7P3wQ1",
        "outputId": "5406dd75-ba68-4990-be70-cccdda3d8732"
      },
      "source": [
        "# Using our model to make a prediction\n",
        "#\n",
        "y_pred = LogReg.predict(X_test)\n",
        "y_pred"
      ],
      "execution_count": 98,
      "outputs": [
        {
          "output_type": "execute_result",
          "data": {
            "text/plain": [
              "array([2, 1, 1, ..., 1, 0, 0])"
            ]
          },
          "metadata": {
            "tags": []
          },
          "execution_count": 98
        }
      ]
    },
    {
      "cell_type": "code",
      "metadata": {
        "colab": {
          "base_uri": "https://localhost:8080/"
        },
        "id": "3K5KLIQP38mR",
        "outputId": "e187be8c-3055-4007-dc05-eff50b98f9cd"
      },
      "source": [
        "# Evaluating the model\n",
        "#Creating confusion matrix\n",
        "#\n",
        "from sklearn.metrics import confusion_matrix\n",
        "confusion_matrix = confusion_matrix(y_test, y_pred)\n",
        "confusion_matrix\n",
        "\n",
        "# from our confusion matrix we have 250 true positive results and 1350 negative prediction at 65.56% accuracy \n"
      ],
      "execution_count": 99,
      "outputs": [
        {
          "output_type": "execute_result",
          "data": {
            "text/plain": [
              "array([[ 250,  432,  198],\n",
              "       [ 173,  770,   89],\n",
              "       [ 271,   82, 1350]])"
            ]
          },
          "metadata": {
            "tags": []
          },
          "execution_count": 99
        }
      ]
    },
    {
      "cell_type": "code",
      "metadata": {
        "colab": {
          "base_uri": "https://localhost:8080/"
        },
        "id": "ze6lfsr24mGO",
        "outputId": "a5f6c9b6-77ba-4797-c682-61b80c2a3cb5"
      },
      "source": [
        "from sklearn.metrics import mean_squared_error, f1_score, accuracy_score, confusion_matrix\n",
        "\n",
        "# Measuring the accuracy of the model\n",
        "print(\"The accuracy of the model is\", {accuracy_score(y_test, y_pred)})\n",
        "print(\"The f1 score of the model is\", {f1_score(y_test, y_pred, average = \"macro\")})"
      ],
      "execution_count": 100,
      "outputs": [
        {
          "output_type": "stream",
          "text": [
            "The accuracy of the model is {0.6556016597510373}\n",
            "The f1 score of the model is {0.5969949307022454}\n"
          ],
          "name": "stdout"
        }
      ]
    },
    {
      "cell_type": "code",
      "metadata": {
        "colab": {
          "base_uri": "https://localhost:8080/",
          "height": 202
        },
        "id": "TF6_BR6ow6pV",
        "outputId": "6f4cb110-eca9-4bb1-f497-2cd636d7f93a"
      },
      "source": [
        "#encoding the tournament type data\n",
        "#Encoding our dataset on tournament columns\n",
        "\n",
        "# Get dummies\n",
        "\n",
        "Tournament = pd.get_dummies(final_df['tournament_type'], prefix_sep='_', drop_first=True)\n",
        "Tournament.head()\n"
      ],
      "execution_count": 84,
      "outputs": [
        {
          "output_type": "execute_result",
          "data": {
            "text/html": [
              "<div>\n",
              "<style scoped>\n",
              "    .dataframe tbody tr th:only-of-type {\n",
              "        vertical-align: middle;\n",
              "    }\n",
              "\n",
              "    .dataframe tbody tr th {\n",
              "        vertical-align: top;\n",
              "    }\n",
              "\n",
              "    .dataframe thead th {\n",
              "        text-align: right;\n",
              "    }\n",
              "</style>\n",
              "<table border=\"1\" class=\"dataframe\">\n",
              "  <thead>\n",
              "    <tr style=\"text-align: right;\">\n",
              "      <th></th>\n",
              "      <th>Other Matches</th>\n",
              "      <th>World_Cup</th>\n",
              "    </tr>\n",
              "  </thead>\n",
              "  <tbody>\n",
              "    <tr>\n",
              "      <th>0</th>\n",
              "      <td>0</td>\n",
              "      <td>0</td>\n",
              "    </tr>\n",
              "    <tr>\n",
              "      <th>1</th>\n",
              "      <td>0</td>\n",
              "      <td>1</td>\n",
              "    </tr>\n",
              "    <tr>\n",
              "      <th>2</th>\n",
              "      <td>0</td>\n",
              "      <td>1</td>\n",
              "    </tr>\n",
              "    <tr>\n",
              "      <th>3</th>\n",
              "      <td>0</td>\n",
              "      <td>1</td>\n",
              "    </tr>\n",
              "    <tr>\n",
              "      <th>4</th>\n",
              "      <td>0</td>\n",
              "      <td>1</td>\n",
              "    </tr>\n",
              "  </tbody>\n",
              "</table>\n",
              "</div>"
            ],
            "text/plain": [
              "   Other Matches  World_Cup\n",
              "0              0          0\n",
              "1              0          1\n",
              "2              0          1\n",
              "3              0          1\n",
              "4              0          1"
            ]
          },
          "metadata": {
            "tags": []
          },
          "execution_count": 84
        }
      ]
    },
    {
      "cell_type": "code",
      "metadata": {
        "colab": {
          "base_uri": "https://localhost:8080/",
          "height": 202
        },
        "id": "D_Y7Cc2wxhuE",
        "outputId": "e05d58e6-28c2-4095-d211-3c00e0a7651a"
      },
      "source": [
        "#Merging the final dataset and match columns\n",
        "#\n",
        "\n",
        "final_df = pd.concat([final_df, Tournament['Other Matches']],axis=1)\n",
        "final_df.head()"
      ],
      "execution_count": 91,
      "outputs": [
        {
          "output_type": "execute_result",
          "data": {
            "text/html": [
              "<div>\n",
              "<style scoped>\n",
              "    .dataframe tbody tr th:only-of-type {\n",
              "        vertical-align: middle;\n",
              "    }\n",
              "\n",
              "    .dataframe tbody tr th {\n",
              "        vertical-align: top;\n",
              "    }\n",
              "\n",
              "    .dataframe thead th {\n",
              "        text-align: right;\n",
              "    }\n",
              "</style>\n",
              "<table border=\"1\" class=\"dataframe\">\n",
              "  <thead>\n",
              "    <tr style=\"text-align: right;\">\n",
              "      <th></th>\n",
              "      <th>awayteam_rank</th>\n",
              "      <th>country</th>\n",
              "      <th>hometeam_rank</th>\n",
              "      <th>home_team</th>\n",
              "      <th>away_team</th>\n",
              "      <th>home_score</th>\n",
              "      <th>away_score</th>\n",
              "      <th>tournament_type</th>\n",
              "      <th>Status</th>\n",
              "      <th>match_status</th>\n",
              "      <th>World_Cup</th>\n",
              "      <th>Other Matches</th>\n",
              "    </tr>\n",
              "  </thead>\n",
              "  <tbody>\n",
              "    <tr>\n",
              "      <th>0</th>\n",
              "      <td>3</td>\n",
              "      <td>Switzerland</td>\n",
              "      <td>4</td>\n",
              "      <td>Sweden</td>\n",
              "      <td>Switzerland</td>\n",
              "      <td>1</td>\n",
              "      <td>2</td>\n",
              "      <td>Friendly</td>\n",
              "      <td>Lose</td>\n",
              "      <td>1</td>\n",
              "      <td>0</td>\n",
              "      <td>0</td>\n",
              "    </tr>\n",
              "    <tr>\n",
              "      <th>1</th>\n",
              "      <td>5</td>\n",
              "      <td>Argentina</td>\n",
              "      <td>19</td>\n",
              "      <td>Colombia</td>\n",
              "      <td>Argentina</td>\n",
              "      <td>2</td>\n",
              "      <td>1</td>\n",
              "      <td>World_Cup</td>\n",
              "      <td>Win</td>\n",
              "      <td>2</td>\n",
              "      <td>1</td>\n",
              "      <td>0</td>\n",
              "    </tr>\n",
              "    <tr>\n",
              "      <th>2</th>\n",
              "      <td>5</td>\n",
              "      <td>Argentina</td>\n",
              "      <td>67</td>\n",
              "      <td>Paraguay</td>\n",
              "      <td>Argentina</td>\n",
              "      <td>1</td>\n",
              "      <td>3</td>\n",
              "      <td>World_Cup</td>\n",
              "      <td>Lose</td>\n",
              "      <td>1</td>\n",
              "      <td>1</td>\n",
              "      <td>0</td>\n",
              "    </tr>\n",
              "    <tr>\n",
              "      <th>3</th>\n",
              "      <td>5</td>\n",
              "      <td>Argentina</td>\n",
              "      <td>70</td>\n",
              "      <td>Peru</td>\n",
              "      <td>Argentina</td>\n",
              "      <td>0</td>\n",
              "      <td>1</td>\n",
              "      <td>World_Cup</td>\n",
              "      <td>Lose</td>\n",
              "      <td>1</td>\n",
              "      <td>1</td>\n",
              "      <td>0</td>\n",
              "    </tr>\n",
              "    <tr>\n",
              "      <th>4</th>\n",
              "      <td>8</td>\n",
              "      <td>Brazil</td>\n",
              "      <td>22</td>\n",
              "      <td>Uruguay</td>\n",
              "      <td>Brazil</td>\n",
              "      <td>1</td>\n",
              "      <td>1</td>\n",
              "      <td>World_Cup</td>\n",
              "      <td>Draw</td>\n",
              "      <td>0</td>\n",
              "      <td>1</td>\n",
              "      <td>0</td>\n",
              "    </tr>\n",
              "  </tbody>\n",
              "</table>\n",
              "</div>"
            ],
            "text/plain": [
              "   awayteam_rank      country  ...  World_Cup Other Matches\n",
              "0              3  Switzerland  ...          0             0\n",
              "1              5    Argentina  ...          1             0\n",
              "2              5    Argentina  ...          1             0\n",
              "3              5    Argentina  ...          1             0\n",
              "4              8       Brazil  ...          1             0\n",
              "\n",
              "[5 rows x 12 columns]"
            ]
          },
          "metadata": {
            "tags": []
          },
          "execution_count": 91
        }
      ]
    },
    {
      "cell_type": "markdown",
      "metadata": {
        "id": "cMp2JS0B5DA-"
      },
      "source": [
        "**Cross Validation**"
      ]
    },
    {
      "cell_type": "code",
      "metadata": {
        "colab": {
          "base_uri": "https://localhost:8080/"
        },
        "id": "CfdSE1eQt0Ji",
        "outputId": "f83e9283-0bb3-4b4c-b7d3-570460307d09"
      },
      "source": [
        "# We will use 4 independent variables for this\n",
        "import numpy as np\n",
        "import pandas as pd\n",
        "from sklearn.model_selection import train_test_split\n",
        "from sklearn.linear_model import LinearRegression\n",
        "from sklearn import metrics\n",
        "\n",
        "X = final_df[['home_score', 'away_score', 'awayteam_rank', 'hometeam_rank']].values\n",
        "y = final_df['match_status'].values\n",
        "\n",
        "# Train using 80% of the data.\n",
        "X_train, X_test, y_train, y_test = train_test_split(X, y, test_size=0.2, random_state=0)\n",
        "\n",
        "# find optimal coefficients and intercept\n",
        "regressor = LinearRegression()  \n",
        "regressor.fit(X_train, y_train)\n",
        "\n",
        "# assess the accuraccy of the model\n",
        "y_pred = regressor.predict(X_test)\n",
        "print('Mean Absolute Error:', metrics.mean_absolute_error(y_test, y_pred))  \n",
        "print('Mean Squared Error:', metrics.mean_squared_error(y_test, y_pred))  \n",
        "print('Root Mean Squared Error:', np.sqrt(metrics.mean_squared_error(y_test, y_pred)))"
      ],
      "execution_count": 106,
      "outputs": [
        {
          "output_type": "stream",
          "text": [
            "Mean Absolute Error: 0.5657896660831091\n",
            "Mean Squared Error: 0.46703636214995226\n",
            "Root Mean Squared Error: 0.6834005868814808\n"
          ],
          "name": "stdout"
        }
      ]
    },
    {
      "cell_type": "markdown",
      "metadata": {
        "id": "lwoN7Ksu65d2"
      },
      "source": [
        "the RMSE is 68.34% . lets now validate our model using k-folds"
      ]
    },
    {
      "cell_type": "code",
      "metadata": {
        "id": "1si44OET7JrP"
      },
      "source": [
        ""
      ],
      "execution_count": null,
      "outputs": []
    },
    {
      "cell_type": "code",
      "metadata": {
        "id": "0sNT9ZX1jEEg",
        "colab": {
          "base_uri": "https://localhost:8080/"
        },
        "outputId": "9758f2df-80eb-4083-88a4-9bed499f24cc"
      },
      "source": [
        "from sklearn.model_selection import KFold\n",
        "\n",
        "# We will use the same 4 independent variables for this\n",
        "X = final_df[['home_score', 'away_score', 'awayteam_rank', 'hometeam_rank']].values\n",
        "y = final_df['match_status'].values\n",
        "\n",
        "\n",
        "folds = KFold(n_splits=5)\n",
        "\n",
        "# note that if you have a KFold object, you can figure out how many folds you set up \n",
        "# for it using get_n_splits\n",
        "print('we are using ' +str(folds.get_n_splits(X)) + ' folds')\n",
        "\n",
        "# We now create and assess 5 models based on the folds we created.\n",
        "RMSES = [] # We will use this array to keep track of the RSME of each model\n",
        "count = 1 # This will just help \n",
        "for train_index, test_index in folds.split(X):\n",
        "  print('\\nTraining model ' + str(count))\n",
        "  \n",
        "  # set up the train and test based on the split determined by KFold\n",
        "  # With 5 folds, we will end up with 80% of our data in the training set, and 20% in the test set, just as above\n",
        "  X_train, X_test = X[train_index], X[test_index]\n",
        "  y_train, y_test = y[train_index], y[test_index]\n",
        "  \n",
        "  # fit a model accordingly\n",
        "  regressor = LinearRegression()  \n",
        "  regressor.fit(X_train, y_train)\n",
        "  \n",
        "  # assess the accuraccy of the model\n",
        "  y_pred = regressor.predict(X_test)\n",
        "  \n",
        "  rmse_value =  np.sqrt(metrics.mean_squared_error(y_test, y_pred))\n",
        "  RMSES.append(rmse_value)\n",
        "  \n",
        "  print('Model ' + str(count) + ' Root Mean Squared Error:',rmse_value)\n",
        "  count = count + 1"
      ],
      "execution_count": 107,
      "outputs": [
        {
          "output_type": "stream",
          "text": [
            "we are using 5 folds\n",
            "\n",
            "Training model 1\n",
            "Model 1 Root Mean Squared Error: 0.6809771423637448\n",
            "\n",
            "Training model 2\n",
            "Model 2 Root Mean Squared Error: 0.7127516953277646\n",
            "\n",
            "Training model 3\n",
            "Model 3 Root Mean Squared Error: 0.6866889778167277\n",
            "\n",
            "Training model 4\n",
            "Model 4 Root Mean Squared Error: 0.6710537734774619\n",
            "\n",
            "Training model 5\n",
            "Model 5 Root Mean Squared Error: 0.670846580048223\n"
          ],
          "name": "stdout"
        }
      ]
    },
    {
      "cell_type": "markdown",
      "metadata": {
        "id": "03mbsgjL82re"
      },
      "source": [
        "**Follow up questions**"
      ]
    },
    {
      "cell_type": "markdown",
      "metadata": {
        "id": "aOLy5lxk8_bO"
      },
      "source": [
        "** a). Did we have the right data?**\n",
        "\n",
        "Yes we did.\n",
        "\n",
        "\n",
        "**b). Do we need other data to answer our question?**\n",
        "\n",
        "\n",
        "yes a more refined data set because on merging a lot of data is lost\n",
        "\n",
        "\n",
        "**c). Did we have the right question?**\n",
        "\n",
        "\n",
        "Yes \n",
        "\n",
        "\n",
        "\n",
        "**Conclusions**\n",
        "\n",
        "\n",
        "the data set used was good for the analysis needed and reaching our goal at a 65% accuracy level"
      ]
    }
  ]
}